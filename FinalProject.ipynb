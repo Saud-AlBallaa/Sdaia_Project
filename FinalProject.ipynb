{
  "nbformat": 4,
  "nbformat_minor": 0,
  "metadata": {
    "colab": {
      "name": "FinalProject.ipynb",
      "provenance": [],
      "collapsed_sections": [
        "picrogFTh3V8"
      ]
    },
    "kernelspec": {
      "name": "python3",
      "display_name": "Python 3"
    },
    "language_info": {
      "name": "python"
    }
  },
  "cells": [
    {
      "cell_type": "markdown",
      "source": [
        "#Introduction"
      ],
      "metadata": {
        "id": "H04U3UjR60Bs"
      }
    },
    {
      "cell_type": "markdown",
      "source": [
        "*Welcome to Saud Alballaa Project's which show the video games sales in worldwide, the corrleation between video games sales with other factors such as genra, reagion, and platform. In addition to the most sold and less sold games in specifc genra, reagion, platform, and year.*\n",
        "\n",
        "\n",
        "---\n",
        "\n",
        "**This project will use a [video games sales dataset](https://www.kaggle.com/gregorut/videogamesales) in kaggle**\n",
        "\n",
        "The data set contain **11 featurs** and more than ***15000 records***\n",
        "\n",
        "\n",
        "\n",
        "---\n",
        "\n",
        "*The project will devide into two parts which are exploratory data analysis (EDA) and modling (mchine learning), using the following tools*:\n",
        "\n",
        "\n",
        "*   Python as the programming language\n",
        "*   Numpy and Pandas for all usages\n",
        "*   Matplotlib and Seaborn for visualzation\n",
        "*   Sketlearn for modling\n",
        "\n",
        "\n",
        "\n",
        "\n",
        "\n",
        "\n"
      ],
      "metadata": {
        "id": "WhpTQJh7DAxo"
      }
    },
    {
      "cell_type": "markdown",
      "source": [
        "#Import lib"
      ],
      "metadata": {
        "id": "ztZpoNS77Plh"
      }
    },
    {
      "cell_type": "code",
      "source": [
        "import numpy as np #Linear Algebra\n",
        "import pandas as pd # Data processing\n",
        "\n",
        "\n",
        "#Plot labraries for visualization\n",
        "import matplotlib.pyplot as plt\n",
        "import seaborn as sns\n",
        "\n",
        "#Ml labraries\n",
        "from sklearn.model_selection import train_test_split\n",
        "from sklearn.preprocessing import LabelEncoder\n",
        "from sklearn.metrics import accuracy_score\n",
        "from sklearn.metrics import r2_score\n",
        "\n",
        "#ML models\n",
        "from sklearn.tree import DecisionTreeRegressor\n",
        "from sklearn.linear_model import LinearRegression\n",
        "from sklearn.ensemble import RandomForestRegressor\n",
        "\n",
        "# To provide an upload button and upload the file in google colab\n",
        "from google.colab import files\n",
        "import io\n",
        "data = files.upload()"
      ],
      "metadata": {
        "colab": {
          "resources": {
            "http://localhost:8080/nbextensions/google.colab/files.js": {
              "data": "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",
              "ok": true,
              "headers": [
                [
                  "content-type",
                  "application/javascript"
                ]
              ],
              "status": 200,
              "status_text": "OK"
            }
          },
          "base_uri": "https://localhost:8080/",
          "height": 75
        },
        "id": "RyT2UtKIWe0c",
        "outputId": "ce292e82-2e77-42bb-ee06-1d9fbb3cd0bd"
      },
      "execution_count": null,
      "outputs": [
        {
          "output_type": "display_data",
          "data": {
            "text/html": [
              "\n",
              "     <input type=\"file\" id=\"files-4b91bc90-e6d5-4fbd-a70f-fbc0ace6898f\" name=\"files[]\" multiple disabled\n",
              "        style=\"border:none\" />\n",
              "     <output id=\"result-4b91bc90-e6d5-4fbd-a70f-fbc0ace6898f\">\n",
              "      Upload widget is only available when the cell has been executed in the\n",
              "      current browser session. Please rerun this cell to enable.\n",
              "      </output>\n",
              "      <script src=\"/nbextensions/google.colab/files.js\"></script> "
            ],
            "text/plain": [
              "<IPython.core.display.HTML object>"
            ]
          },
          "metadata": {}
        },
        {
          "output_type": "stream",
          "name": "stdout",
          "text": [
            "Saving vgsales.csv to vgsales (2).csv\n"
          ]
        }
      ]
    },
    {
      "cell_type": "markdown",
      "source": [
        "#Section One: Exploratory Data Analysis (EDA)"
      ],
      "metadata": {
        "id": "DL2D9YsAWSYg"
      }
    },
    {
      "cell_type": "markdown",
      "source": [
        "### Read the dataset\n"
      ],
      "metadata": {
        "id": "NPofGVBV-bhS"
      }
    },
    {
      "cell_type": "markdown",
      "source": [
        "  ***Data Dectionary:***\n",
        "\n",
        "*   Rank - Ranking of overall sales\n",
        "*   Name - The games name\n",
        "*   Platform - Platform of the games release (i.e. PC,PS4, etc.)\n",
        "*   Year - Year of the game's release\n",
        "*   Genre - Genre of the game\n",
        "*   Publisher - Publisher of the game\n",
        "*   NA_Sales - Sales in North America (in millions)\n",
        "*   EU_Sales - Sales in Europe (in millions)\n",
        "*   JP_Sales - Sales in Japan (in millions)\n",
        "*   Other_Sales - Sales in the rest of the world (in millions)\n",
        "*   Global_Sales - Total worldwide sales"
      ],
      "metadata": {
        "id": "V35YU_9b_Mhs"
      }
    },
    {
      "cell_type": "code",
      "source": [
        "#Read the csv file\n",
        "videoGames_df = pd.read_csv('vgsales.csv')"
      ],
      "metadata": {
        "id": "80HzGsbOXE5Q"
      },
      "execution_count": null,
      "outputs": []
    },
    {
      "cell_type": "markdown",
      "source": [
        "###Understanding and Preview The Data"
      ],
      "metadata": {
        "id": "lktfiJ32Ybii"
      }
    },
    {
      "cell_type": "code",
      "source": [
        "#Check the shape of the data to know the number of rows and columns \n",
        "videoGames_df.shape"
      ],
      "metadata": {
        "colab": {
          "base_uri": "https://localhost:8080/"
        },
        "id": "QLANNEAAYhdl",
        "outputId": "4431afcc-997c-4933-96ff-5b88ed1e2cc5"
      },
      "execution_count": null,
      "outputs": [
        {
          "output_type": "execute_result",
          "data": {
            "text/plain": [
              "(16598, 11)"
            ]
          },
          "metadata": {},
          "execution_count": 3
        }
      ]
    },
    {
      "cell_type": "code",
      "source": [
        "#Check the head of data set (which show the first 5 records in the data set)\n",
        "videoGames_df.head()"
      ],
      "metadata": {
        "colab": {
          "base_uri": "https://localhost:8080/",
          "height": 250
        },
        "id": "s98jcGujZILm",
        "outputId": "6922ac6a-beaf-4321-a607-6db89ae90109"
      },
      "execution_count": null,
      "outputs": [
        {
          "output_type": "execute_result",
          "data": {
            "text/html": [
              "\n",
              "  <div id=\"df-4028269a-7d97-48e7-b740-6ea6f7a79480\">\n",
              "    <div class=\"colab-df-container\">\n",
              "      <div>\n",
              "<style scoped>\n",
              "    .dataframe tbody tr th:only-of-type {\n",
              "        vertical-align: middle;\n",
              "    }\n",
              "\n",
              "    .dataframe tbody tr th {\n",
              "        vertical-align: top;\n",
              "    }\n",
              "\n",
              "    .dataframe thead th {\n",
              "        text-align: right;\n",
              "    }\n",
              "</style>\n",
              "<table border=\"1\" class=\"dataframe\">\n",
              "  <thead>\n",
              "    <tr style=\"text-align: right;\">\n",
              "      <th></th>\n",
              "      <th>Rank</th>\n",
              "      <th>Name</th>\n",
              "      <th>Platform</th>\n",
              "      <th>Year</th>\n",
              "      <th>Genre</th>\n",
              "      <th>Publisher</th>\n",
              "      <th>NA_Sales</th>\n",
              "      <th>EU_Sales</th>\n",
              "      <th>JP_Sales</th>\n",
              "      <th>Other_Sales</th>\n",
              "      <th>Global_Sales</th>\n",
              "    </tr>\n",
              "  </thead>\n",
              "  <tbody>\n",
              "    <tr>\n",
              "      <th>0</th>\n",
              "      <td>1</td>\n",
              "      <td>Wii Sports</td>\n",
              "      <td>Wii</td>\n",
              "      <td>2006.0</td>\n",
              "      <td>Sports</td>\n",
              "      <td>Nintendo</td>\n",
              "      <td>41.49</td>\n",
              "      <td>29.02</td>\n",
              "      <td>3.77</td>\n",
              "      <td>8.46</td>\n",
              "      <td>82.74</td>\n",
              "    </tr>\n",
              "    <tr>\n",
              "      <th>1</th>\n",
              "      <td>2</td>\n",
              "      <td>Super Mario Bros.</td>\n",
              "      <td>NES</td>\n",
              "      <td>1985.0</td>\n",
              "      <td>Platform</td>\n",
              "      <td>Nintendo</td>\n",
              "      <td>29.08</td>\n",
              "      <td>3.58</td>\n",
              "      <td>6.81</td>\n",
              "      <td>0.77</td>\n",
              "      <td>40.24</td>\n",
              "    </tr>\n",
              "    <tr>\n",
              "      <th>2</th>\n",
              "      <td>3</td>\n",
              "      <td>Mario Kart Wii</td>\n",
              "      <td>Wii</td>\n",
              "      <td>2008.0</td>\n",
              "      <td>Racing</td>\n",
              "      <td>Nintendo</td>\n",
              "      <td>15.85</td>\n",
              "      <td>12.88</td>\n",
              "      <td>3.79</td>\n",
              "      <td>3.31</td>\n",
              "      <td>35.82</td>\n",
              "    </tr>\n",
              "    <tr>\n",
              "      <th>3</th>\n",
              "      <td>4</td>\n",
              "      <td>Wii Sports Resort</td>\n",
              "      <td>Wii</td>\n",
              "      <td>2009.0</td>\n",
              "      <td>Sports</td>\n",
              "      <td>Nintendo</td>\n",
              "      <td>15.75</td>\n",
              "      <td>11.01</td>\n",
              "      <td>3.28</td>\n",
              "      <td>2.96</td>\n",
              "      <td>33.00</td>\n",
              "    </tr>\n",
              "    <tr>\n",
              "      <th>4</th>\n",
              "      <td>5</td>\n",
              "      <td>Pokemon Red/Pokemon Blue</td>\n",
              "      <td>GB</td>\n",
              "      <td>1996.0</td>\n",
              "      <td>Role-Playing</td>\n",
              "      <td>Nintendo</td>\n",
              "      <td>11.27</td>\n",
              "      <td>8.89</td>\n",
              "      <td>10.22</td>\n",
              "      <td>1.00</td>\n",
              "      <td>31.37</td>\n",
              "    </tr>\n",
              "  </tbody>\n",
              "</table>\n",
              "</div>\n",
              "      <button class=\"colab-df-convert\" onclick=\"convertToInteractive('df-4028269a-7d97-48e7-b740-6ea6f7a79480')\"\n",
              "              title=\"Convert this dataframe to an interactive table.\"\n",
              "              style=\"display:none;\">\n",
              "        \n",
              "  <svg xmlns=\"http://www.w3.org/2000/svg\" height=\"24px\"viewBox=\"0 0 24 24\"\n",
              "       width=\"24px\">\n",
              "    <path d=\"M0 0h24v24H0V0z\" fill=\"none\"/>\n",
              "    <path d=\"M18.56 5.44l.94 2.06.94-2.06 2.06-.94-2.06-.94-.94-2.06-.94 2.06-2.06.94zm-11 1L8.5 8.5l.94-2.06 2.06-.94-2.06-.94L8.5 2.5l-.94 2.06-2.06.94zm10 10l.94 2.06.94-2.06 2.06-.94-2.06-.94-.94-2.06-.94 2.06-2.06.94z\"/><path d=\"M17.41 7.96l-1.37-1.37c-.4-.4-.92-.59-1.43-.59-.52 0-1.04.2-1.43.59L10.3 9.45l-7.72 7.72c-.78.78-.78 2.05 0 2.83L4 21.41c.39.39.9.59 1.41.59.51 0 1.02-.2 1.41-.59l7.78-7.78 2.81-2.81c.8-.78.8-2.07 0-2.86zM5.41 20L4 18.59l7.72-7.72 1.47 1.35L5.41 20z\"/>\n",
              "  </svg>\n",
              "      </button>\n",
              "      \n",
              "  <style>\n",
              "    .colab-df-container {\n",
              "      display:flex;\n",
              "      flex-wrap:wrap;\n",
              "      gap: 12px;\n",
              "    }\n",
              "\n",
              "    .colab-df-convert {\n",
              "      background-color: #E8F0FE;\n",
              "      border: none;\n",
              "      border-radius: 50%;\n",
              "      cursor: pointer;\n",
              "      display: none;\n",
              "      fill: #1967D2;\n",
              "      height: 32px;\n",
              "      padding: 0 0 0 0;\n",
              "      width: 32px;\n",
              "    }\n",
              "\n",
              "    .colab-df-convert:hover {\n",
              "      background-color: #E2EBFA;\n",
              "      box-shadow: 0px 1px 2px rgba(60, 64, 67, 0.3), 0px 1px 3px 1px rgba(60, 64, 67, 0.15);\n",
              "      fill: #174EA6;\n",
              "    }\n",
              "\n",
              "    [theme=dark] .colab-df-convert {\n",
              "      background-color: #3B4455;\n",
              "      fill: #D2E3FC;\n",
              "    }\n",
              "\n",
              "    [theme=dark] .colab-df-convert:hover {\n",
              "      background-color: #434B5C;\n",
              "      box-shadow: 0px 1px 3px 1px rgba(0, 0, 0, 0.15);\n",
              "      filter: drop-shadow(0px 1px 2px rgba(0, 0, 0, 0.3));\n",
              "      fill: #FFFFFF;\n",
              "    }\n",
              "  </style>\n",
              "\n",
              "      <script>\n",
              "        const buttonEl =\n",
              "          document.querySelector('#df-4028269a-7d97-48e7-b740-6ea6f7a79480 button.colab-df-convert');\n",
              "        buttonEl.style.display =\n",
              "          google.colab.kernel.accessAllowed ? 'block' : 'none';\n",
              "\n",
              "        async function convertToInteractive(key) {\n",
              "          const element = document.querySelector('#df-4028269a-7d97-48e7-b740-6ea6f7a79480');\n",
              "          const dataTable =\n",
              "            await google.colab.kernel.invokeFunction('convertToInteractive',\n",
              "                                                     [key], {});\n",
              "          if (!dataTable) return;\n",
              "\n",
              "          const docLinkHtml = 'Like what you see? Visit the ' +\n",
              "            '<a target=\"_blank\" href=https://colab.research.google.com/notebooks/data_table.ipynb>data table notebook</a>'\n",
              "            + ' to learn more about interactive tables.';\n",
              "          element.innerHTML = '';\n",
              "          dataTable['output_type'] = 'display_data';\n",
              "          await google.colab.output.renderOutput(dataTable, element);\n",
              "          const docLink = document.createElement('div');\n",
              "          docLink.innerHTML = docLinkHtml;\n",
              "          element.appendChild(docLink);\n",
              "        }\n",
              "      </script>\n",
              "    </div>\n",
              "  </div>\n",
              "  "
            ],
            "text/plain": [
              "   Rank                      Name Platform  ...  JP_Sales Other_Sales Global_Sales\n",
              "0     1                Wii Sports      Wii  ...      3.77        8.46        82.74\n",
              "1     2         Super Mario Bros.      NES  ...      6.81        0.77        40.24\n",
              "2     3            Mario Kart Wii      Wii  ...      3.79        3.31        35.82\n",
              "3     4         Wii Sports Resort      Wii  ...      3.28        2.96        33.00\n",
              "4     5  Pokemon Red/Pokemon Blue       GB  ...     10.22        1.00        31.37\n",
              "\n",
              "[5 rows x 11 columns]"
            ]
          },
          "metadata": {},
          "execution_count": 4
        }
      ]
    },
    {
      "cell_type": "code",
      "source": [
        "#Check the tail of data set (which show the last 5 records in the data set)\n",
        "videoGames_df.tail()"
      ],
      "metadata": {
        "colab": {
          "base_uri": "https://localhost:8080/",
          "height": 285
        },
        "id": "aMgalnb2ZZ_u",
        "outputId": "a971231f-6b4c-49da-a71a-ad9564365103"
      },
      "execution_count": null,
      "outputs": [
        {
          "output_type": "execute_result",
          "data": {
            "text/html": [
              "\n",
              "  <div id=\"df-60f144ee-5b93-49d3-b4e6-be2c553cdac3\">\n",
              "    <div class=\"colab-df-container\">\n",
              "      <div>\n",
              "<style scoped>\n",
              "    .dataframe tbody tr th:only-of-type {\n",
              "        vertical-align: middle;\n",
              "    }\n",
              "\n",
              "    .dataframe tbody tr th {\n",
              "        vertical-align: top;\n",
              "    }\n",
              "\n",
              "    .dataframe thead th {\n",
              "        text-align: right;\n",
              "    }\n",
              "</style>\n",
              "<table border=\"1\" class=\"dataframe\">\n",
              "  <thead>\n",
              "    <tr style=\"text-align: right;\">\n",
              "      <th></th>\n",
              "      <th>Rank</th>\n",
              "      <th>Name</th>\n",
              "      <th>Platform</th>\n",
              "      <th>Year</th>\n",
              "      <th>Genre</th>\n",
              "      <th>Publisher</th>\n",
              "      <th>NA_Sales</th>\n",
              "      <th>EU_Sales</th>\n",
              "      <th>JP_Sales</th>\n",
              "      <th>Other_Sales</th>\n",
              "      <th>Global_Sales</th>\n",
              "    </tr>\n",
              "  </thead>\n",
              "  <tbody>\n",
              "    <tr>\n",
              "      <th>16593</th>\n",
              "      <td>16596</td>\n",
              "      <td>Woody Woodpecker in Crazy Castle 5</td>\n",
              "      <td>GBA</td>\n",
              "      <td>2002.0</td>\n",
              "      <td>Platform</td>\n",
              "      <td>Kemco</td>\n",
              "      <td>0.01</td>\n",
              "      <td>0.00</td>\n",
              "      <td>0.0</td>\n",
              "      <td>0.0</td>\n",
              "      <td>0.01</td>\n",
              "    </tr>\n",
              "    <tr>\n",
              "      <th>16594</th>\n",
              "      <td>16597</td>\n",
              "      <td>Men in Black II: Alien Escape</td>\n",
              "      <td>GC</td>\n",
              "      <td>2003.0</td>\n",
              "      <td>Shooter</td>\n",
              "      <td>Infogrames</td>\n",
              "      <td>0.01</td>\n",
              "      <td>0.00</td>\n",
              "      <td>0.0</td>\n",
              "      <td>0.0</td>\n",
              "      <td>0.01</td>\n",
              "    </tr>\n",
              "    <tr>\n",
              "      <th>16595</th>\n",
              "      <td>16598</td>\n",
              "      <td>SCORE International Baja 1000: The Official Game</td>\n",
              "      <td>PS2</td>\n",
              "      <td>2008.0</td>\n",
              "      <td>Racing</td>\n",
              "      <td>Activision</td>\n",
              "      <td>0.00</td>\n",
              "      <td>0.00</td>\n",
              "      <td>0.0</td>\n",
              "      <td>0.0</td>\n",
              "      <td>0.01</td>\n",
              "    </tr>\n",
              "    <tr>\n",
              "      <th>16596</th>\n",
              "      <td>16599</td>\n",
              "      <td>Know How 2</td>\n",
              "      <td>DS</td>\n",
              "      <td>2010.0</td>\n",
              "      <td>Puzzle</td>\n",
              "      <td>7G//AMES</td>\n",
              "      <td>0.00</td>\n",
              "      <td>0.01</td>\n",
              "      <td>0.0</td>\n",
              "      <td>0.0</td>\n",
              "      <td>0.01</td>\n",
              "    </tr>\n",
              "    <tr>\n",
              "      <th>16597</th>\n",
              "      <td>16600</td>\n",
              "      <td>Spirits &amp; Spells</td>\n",
              "      <td>GBA</td>\n",
              "      <td>2003.0</td>\n",
              "      <td>Platform</td>\n",
              "      <td>Wanadoo</td>\n",
              "      <td>0.01</td>\n",
              "      <td>0.00</td>\n",
              "      <td>0.0</td>\n",
              "      <td>0.0</td>\n",
              "      <td>0.01</td>\n",
              "    </tr>\n",
              "  </tbody>\n",
              "</table>\n",
              "</div>\n",
              "      <button class=\"colab-df-convert\" onclick=\"convertToInteractive('df-60f144ee-5b93-49d3-b4e6-be2c553cdac3')\"\n",
              "              title=\"Convert this dataframe to an interactive table.\"\n",
              "              style=\"display:none;\">\n",
              "        \n",
              "  <svg xmlns=\"http://www.w3.org/2000/svg\" height=\"24px\"viewBox=\"0 0 24 24\"\n",
              "       width=\"24px\">\n",
              "    <path d=\"M0 0h24v24H0V0z\" fill=\"none\"/>\n",
              "    <path d=\"M18.56 5.44l.94 2.06.94-2.06 2.06-.94-2.06-.94-.94-2.06-.94 2.06-2.06.94zm-11 1L8.5 8.5l.94-2.06 2.06-.94-2.06-.94L8.5 2.5l-.94 2.06-2.06.94zm10 10l.94 2.06.94-2.06 2.06-.94-2.06-.94-.94-2.06-.94 2.06-2.06.94z\"/><path d=\"M17.41 7.96l-1.37-1.37c-.4-.4-.92-.59-1.43-.59-.52 0-1.04.2-1.43.59L10.3 9.45l-7.72 7.72c-.78.78-.78 2.05 0 2.83L4 21.41c.39.39.9.59 1.41.59.51 0 1.02-.2 1.41-.59l7.78-7.78 2.81-2.81c.8-.78.8-2.07 0-2.86zM5.41 20L4 18.59l7.72-7.72 1.47 1.35L5.41 20z\"/>\n",
              "  </svg>\n",
              "      </button>\n",
              "      \n",
              "  <style>\n",
              "    .colab-df-container {\n",
              "      display:flex;\n",
              "      flex-wrap:wrap;\n",
              "      gap: 12px;\n",
              "    }\n",
              "\n",
              "    .colab-df-convert {\n",
              "      background-color: #E8F0FE;\n",
              "      border: none;\n",
              "      border-radius: 50%;\n",
              "      cursor: pointer;\n",
              "      display: none;\n",
              "      fill: #1967D2;\n",
              "      height: 32px;\n",
              "      padding: 0 0 0 0;\n",
              "      width: 32px;\n",
              "    }\n",
              "\n",
              "    .colab-df-convert:hover {\n",
              "      background-color: #E2EBFA;\n",
              "      box-shadow: 0px 1px 2px rgba(60, 64, 67, 0.3), 0px 1px 3px 1px rgba(60, 64, 67, 0.15);\n",
              "      fill: #174EA6;\n",
              "    }\n",
              "\n",
              "    [theme=dark] .colab-df-convert {\n",
              "      background-color: #3B4455;\n",
              "      fill: #D2E3FC;\n",
              "    }\n",
              "\n",
              "    [theme=dark] .colab-df-convert:hover {\n",
              "      background-color: #434B5C;\n",
              "      box-shadow: 0px 1px 3px 1px rgba(0, 0, 0, 0.15);\n",
              "      filter: drop-shadow(0px 1px 2px rgba(0, 0, 0, 0.3));\n",
              "      fill: #FFFFFF;\n",
              "    }\n",
              "  </style>\n",
              "\n",
              "      <script>\n",
              "        const buttonEl =\n",
              "          document.querySelector('#df-60f144ee-5b93-49d3-b4e6-be2c553cdac3 button.colab-df-convert');\n",
              "        buttonEl.style.display =\n",
              "          google.colab.kernel.accessAllowed ? 'block' : 'none';\n",
              "\n",
              "        async function convertToInteractive(key) {\n",
              "          const element = document.querySelector('#df-60f144ee-5b93-49d3-b4e6-be2c553cdac3');\n",
              "          const dataTable =\n",
              "            await google.colab.kernel.invokeFunction('convertToInteractive',\n",
              "                                                     [key], {});\n",
              "          if (!dataTable) return;\n",
              "\n",
              "          const docLinkHtml = 'Like what you see? Visit the ' +\n",
              "            '<a target=\"_blank\" href=https://colab.research.google.com/notebooks/data_table.ipynb>data table notebook</a>'\n",
              "            + ' to learn more about interactive tables.';\n",
              "          element.innerHTML = '';\n",
              "          dataTable['output_type'] = 'display_data';\n",
              "          await google.colab.output.renderOutput(dataTable, element);\n",
              "          const docLink = document.createElement('div');\n",
              "          docLink.innerHTML = docLinkHtml;\n",
              "          element.appendChild(docLink);\n",
              "        }\n",
              "      </script>\n",
              "    </div>\n",
              "  </div>\n",
              "  "
            ],
            "text/plain": [
              "        Rank  ... Global_Sales\n",
              "16593  16596  ...         0.01\n",
              "16594  16597  ...         0.01\n",
              "16595  16598  ...         0.01\n",
              "16596  16599  ...         0.01\n",
              "16597  16600  ...         0.01\n",
              "\n",
              "[5 rows x 11 columns]"
            ]
          },
          "metadata": {},
          "execution_count": 5
        }
      ]
    },
    {
      "cell_type": "code",
      "source": [
        "#Taking overview with general information such as datatypes, and non values\n",
        "videoGames_df.info()"
      ],
      "metadata": {
        "colab": {
          "base_uri": "https://localhost:8080/"
        },
        "id": "WcK_BCl1ZZV4",
        "outputId": "c68438a6-08e3-4aeb-b030-4713405169cb"
      },
      "execution_count": null,
      "outputs": [
        {
          "output_type": "stream",
          "name": "stdout",
          "text": [
            "<class 'pandas.core.frame.DataFrame'>\n",
            "RangeIndex: 16598 entries, 0 to 16597\n",
            "Data columns (total 11 columns):\n",
            " #   Column        Non-Null Count  Dtype  \n",
            "---  ------        --------------  -----  \n",
            " 0   Rank          16598 non-null  int64  \n",
            " 1   Name          16598 non-null  object \n",
            " 2   Platform      16598 non-null  object \n",
            " 3   Year          16327 non-null  float64\n",
            " 4   Genre         16598 non-null  object \n",
            " 5   Publisher     16540 non-null  object \n",
            " 6   NA_Sales      16598 non-null  float64\n",
            " 7   EU_Sales      16598 non-null  float64\n",
            " 8   JP_Sales      16598 non-null  float64\n",
            " 9   Other_Sales   16598 non-null  float64\n",
            " 10  Global_Sales  16598 non-null  float64\n",
            "dtypes: float64(6), int64(1), object(4)\n",
            "memory usage: 1.4+ MB\n"
          ]
        }
      ]
    },
    {
      "cell_type": "markdown",
      "source": [
        "We can see there is null values in Publisher and Year"
      ],
      "metadata": {
        "id": "8slqkAoqHfOD"
      }
    },
    {
      "cell_type": "code",
      "source": [
        "#Taking statsical over view, and we can see that highest sales are in North amirca between the reagions by checking the max and mean\n",
        "videoGames_df.describe()"
      ],
      "metadata": {
        "colab": {
          "base_uri": "https://localhost:8080/",
          "height": 300
        },
        "id": "JqlIxvjsg7K3",
        "outputId": "e20bcd17-ef26-42e6-82b4-6f951e30be98"
      },
      "execution_count": null,
      "outputs": [
        {
          "output_type": "execute_result",
          "data": {
            "text/html": [
              "\n",
              "  <div id=\"df-e1ed3c0a-3fca-41d2-98e1-7b54e421bc78\">\n",
              "    <div class=\"colab-df-container\">\n",
              "      <div>\n",
              "<style scoped>\n",
              "    .dataframe tbody tr th:only-of-type {\n",
              "        vertical-align: middle;\n",
              "    }\n",
              "\n",
              "    .dataframe tbody tr th {\n",
              "        vertical-align: top;\n",
              "    }\n",
              "\n",
              "    .dataframe thead th {\n",
              "        text-align: right;\n",
              "    }\n",
              "</style>\n",
              "<table border=\"1\" class=\"dataframe\">\n",
              "  <thead>\n",
              "    <tr style=\"text-align: right;\">\n",
              "      <th></th>\n",
              "      <th>Rank</th>\n",
              "      <th>Year</th>\n",
              "      <th>NA_Sales</th>\n",
              "      <th>EU_Sales</th>\n",
              "      <th>JP_Sales</th>\n",
              "      <th>Other_Sales</th>\n",
              "      <th>Global_Sales</th>\n",
              "    </tr>\n",
              "  </thead>\n",
              "  <tbody>\n",
              "    <tr>\n",
              "      <th>count</th>\n",
              "      <td>16598.000000</td>\n",
              "      <td>16327.000000</td>\n",
              "      <td>16598.000000</td>\n",
              "      <td>16598.000000</td>\n",
              "      <td>16598.000000</td>\n",
              "      <td>16598.000000</td>\n",
              "      <td>16598.000000</td>\n",
              "    </tr>\n",
              "    <tr>\n",
              "      <th>mean</th>\n",
              "      <td>8300.605254</td>\n",
              "      <td>2006.406443</td>\n",
              "      <td>0.264667</td>\n",
              "      <td>0.146652</td>\n",
              "      <td>0.077782</td>\n",
              "      <td>0.048063</td>\n",
              "      <td>0.537441</td>\n",
              "    </tr>\n",
              "    <tr>\n",
              "      <th>std</th>\n",
              "      <td>4791.853933</td>\n",
              "      <td>5.828981</td>\n",
              "      <td>0.816683</td>\n",
              "      <td>0.505351</td>\n",
              "      <td>0.309291</td>\n",
              "      <td>0.188588</td>\n",
              "      <td>1.555028</td>\n",
              "    </tr>\n",
              "    <tr>\n",
              "      <th>min</th>\n",
              "      <td>1.000000</td>\n",
              "      <td>1980.000000</td>\n",
              "      <td>0.000000</td>\n",
              "      <td>0.000000</td>\n",
              "      <td>0.000000</td>\n",
              "      <td>0.000000</td>\n",
              "      <td>0.010000</td>\n",
              "    </tr>\n",
              "    <tr>\n",
              "      <th>25%</th>\n",
              "      <td>4151.250000</td>\n",
              "      <td>2003.000000</td>\n",
              "      <td>0.000000</td>\n",
              "      <td>0.000000</td>\n",
              "      <td>0.000000</td>\n",
              "      <td>0.000000</td>\n",
              "      <td>0.060000</td>\n",
              "    </tr>\n",
              "    <tr>\n",
              "      <th>50%</th>\n",
              "      <td>8300.500000</td>\n",
              "      <td>2007.000000</td>\n",
              "      <td>0.080000</td>\n",
              "      <td>0.020000</td>\n",
              "      <td>0.000000</td>\n",
              "      <td>0.010000</td>\n",
              "      <td>0.170000</td>\n",
              "    </tr>\n",
              "    <tr>\n",
              "      <th>75%</th>\n",
              "      <td>12449.750000</td>\n",
              "      <td>2010.000000</td>\n",
              "      <td>0.240000</td>\n",
              "      <td>0.110000</td>\n",
              "      <td>0.040000</td>\n",
              "      <td>0.040000</td>\n",
              "      <td>0.470000</td>\n",
              "    </tr>\n",
              "    <tr>\n",
              "      <th>max</th>\n",
              "      <td>16600.000000</td>\n",
              "      <td>2020.000000</td>\n",
              "      <td>41.490000</td>\n",
              "      <td>29.020000</td>\n",
              "      <td>10.220000</td>\n",
              "      <td>10.570000</td>\n",
              "      <td>82.740000</td>\n",
              "    </tr>\n",
              "  </tbody>\n",
              "</table>\n",
              "</div>\n",
              "      <button class=\"colab-df-convert\" onclick=\"convertToInteractive('df-e1ed3c0a-3fca-41d2-98e1-7b54e421bc78')\"\n",
              "              title=\"Convert this dataframe to an interactive table.\"\n",
              "              style=\"display:none;\">\n",
              "        \n",
              "  <svg xmlns=\"http://www.w3.org/2000/svg\" height=\"24px\"viewBox=\"0 0 24 24\"\n",
              "       width=\"24px\">\n",
              "    <path d=\"M0 0h24v24H0V0z\" fill=\"none\"/>\n",
              "    <path d=\"M18.56 5.44l.94 2.06.94-2.06 2.06-.94-2.06-.94-.94-2.06-.94 2.06-2.06.94zm-11 1L8.5 8.5l.94-2.06 2.06-.94-2.06-.94L8.5 2.5l-.94 2.06-2.06.94zm10 10l.94 2.06.94-2.06 2.06-.94-2.06-.94-.94-2.06-.94 2.06-2.06.94z\"/><path d=\"M17.41 7.96l-1.37-1.37c-.4-.4-.92-.59-1.43-.59-.52 0-1.04.2-1.43.59L10.3 9.45l-7.72 7.72c-.78.78-.78 2.05 0 2.83L4 21.41c.39.39.9.59 1.41.59.51 0 1.02-.2 1.41-.59l7.78-7.78 2.81-2.81c.8-.78.8-2.07 0-2.86zM5.41 20L4 18.59l7.72-7.72 1.47 1.35L5.41 20z\"/>\n",
              "  </svg>\n",
              "      </button>\n",
              "      \n",
              "  <style>\n",
              "    .colab-df-container {\n",
              "      display:flex;\n",
              "      flex-wrap:wrap;\n",
              "      gap: 12px;\n",
              "    }\n",
              "\n",
              "    .colab-df-convert {\n",
              "      background-color: #E8F0FE;\n",
              "      border: none;\n",
              "      border-radius: 50%;\n",
              "      cursor: pointer;\n",
              "      display: none;\n",
              "      fill: #1967D2;\n",
              "      height: 32px;\n",
              "      padding: 0 0 0 0;\n",
              "      width: 32px;\n",
              "    }\n",
              "\n",
              "    .colab-df-convert:hover {\n",
              "      background-color: #E2EBFA;\n",
              "      box-shadow: 0px 1px 2px rgba(60, 64, 67, 0.3), 0px 1px 3px 1px rgba(60, 64, 67, 0.15);\n",
              "      fill: #174EA6;\n",
              "    }\n",
              "\n",
              "    [theme=dark] .colab-df-convert {\n",
              "      background-color: #3B4455;\n",
              "      fill: #D2E3FC;\n",
              "    }\n",
              "\n",
              "    [theme=dark] .colab-df-convert:hover {\n",
              "      background-color: #434B5C;\n",
              "      box-shadow: 0px 1px 3px 1px rgba(0, 0, 0, 0.15);\n",
              "      filter: drop-shadow(0px 1px 2px rgba(0, 0, 0, 0.3));\n",
              "      fill: #FFFFFF;\n",
              "    }\n",
              "  </style>\n",
              "\n",
              "      <script>\n",
              "        const buttonEl =\n",
              "          document.querySelector('#df-e1ed3c0a-3fca-41d2-98e1-7b54e421bc78 button.colab-df-convert');\n",
              "        buttonEl.style.display =\n",
              "          google.colab.kernel.accessAllowed ? 'block' : 'none';\n",
              "\n",
              "        async function convertToInteractive(key) {\n",
              "          const element = document.querySelector('#df-e1ed3c0a-3fca-41d2-98e1-7b54e421bc78');\n",
              "          const dataTable =\n",
              "            await google.colab.kernel.invokeFunction('convertToInteractive',\n",
              "                                                     [key], {});\n",
              "          if (!dataTable) return;\n",
              "\n",
              "          const docLinkHtml = 'Like what you see? Visit the ' +\n",
              "            '<a target=\"_blank\" href=https://colab.research.google.com/notebooks/data_table.ipynb>data table notebook</a>'\n",
              "            + ' to learn more about interactive tables.';\n",
              "          element.innerHTML = '';\n",
              "          dataTable['output_type'] = 'display_data';\n",
              "          await google.colab.output.renderOutput(dataTable, element);\n",
              "          const docLink = document.createElement('div');\n",
              "          docLink.innerHTML = docLinkHtml;\n",
              "          element.appendChild(docLink);\n",
              "        }\n",
              "      </script>\n",
              "    </div>\n",
              "  </div>\n",
              "  "
            ],
            "text/plain": [
              "               Rank          Year  ...   Other_Sales  Global_Sales\n",
              "count  16598.000000  16327.000000  ...  16598.000000  16598.000000\n",
              "mean    8300.605254   2006.406443  ...      0.048063      0.537441\n",
              "std     4791.853933      5.828981  ...      0.188588      1.555028\n",
              "min        1.000000   1980.000000  ...      0.000000      0.010000\n",
              "25%     4151.250000   2003.000000  ...      0.000000      0.060000\n",
              "50%     8300.500000   2007.000000  ...      0.010000      0.170000\n",
              "75%    12449.750000   2010.000000  ...      0.040000      0.470000\n",
              "max    16600.000000   2020.000000  ...     10.570000     82.740000\n",
              "\n",
              "[8 rows x 7 columns]"
            ]
          },
          "metadata": {},
          "execution_count": 7
        }
      ]
    },
    {
      "cell_type": "markdown",
      "source": [
        "Notice that Na_Sales arth the highest sales between the reagions by checking the max and mean, also the data from 1980 to 2020"
      ],
      "metadata": {
        "id": "rlP3alOe1F9W"
      }
    },
    {
      "cell_type": "markdown",
      "source": [
        "### Data Cleaning and Prepreation \n"
      ],
      "metadata": {
        "id": "-zODi2xt_zoP"
      }
    },
    {
      "cell_type": "code",
      "source": [
        "# Check for dublications\n",
        "duplicate = videoGames_df[videoGames_df.duplicated()]\n",
        "duplicate"
      ],
      "metadata": {
        "colab": {
          "base_uri": "https://localhost:8080/",
          "height": 49
        },
        "id": "jDgYdj_zAYuZ",
        "outputId": "a785df41-d907-49d0-d32a-7ecb622007a9"
      },
      "execution_count": null,
      "outputs": [
        {
          "output_type": "execute_result",
          "data": {
            "text/html": [
              "\n",
              "  <div id=\"df-d0bda25d-8ac4-47ef-ac5f-6b820ef494e9\">\n",
              "    <div class=\"colab-df-container\">\n",
              "      <div>\n",
              "<style scoped>\n",
              "    .dataframe tbody tr th:only-of-type {\n",
              "        vertical-align: middle;\n",
              "    }\n",
              "\n",
              "    .dataframe tbody tr th {\n",
              "        vertical-align: top;\n",
              "    }\n",
              "\n",
              "    .dataframe thead th {\n",
              "        text-align: right;\n",
              "    }\n",
              "</style>\n",
              "<table border=\"1\" class=\"dataframe\">\n",
              "  <thead>\n",
              "    <tr style=\"text-align: right;\">\n",
              "      <th></th>\n",
              "      <th>Rank</th>\n",
              "      <th>Name</th>\n",
              "      <th>Platform</th>\n",
              "      <th>Year</th>\n",
              "      <th>Genre</th>\n",
              "      <th>Publisher</th>\n",
              "      <th>NA_Sales</th>\n",
              "      <th>EU_Sales</th>\n",
              "      <th>JP_Sales</th>\n",
              "      <th>Other_Sales</th>\n",
              "      <th>Global_Sales</th>\n",
              "    </tr>\n",
              "  </thead>\n",
              "  <tbody>\n",
              "  </tbody>\n",
              "</table>\n",
              "</div>\n",
              "      <button class=\"colab-df-convert\" onclick=\"convertToInteractive('df-d0bda25d-8ac4-47ef-ac5f-6b820ef494e9')\"\n",
              "              title=\"Convert this dataframe to an interactive table.\"\n",
              "              style=\"display:none;\">\n",
              "        \n",
              "  <svg xmlns=\"http://www.w3.org/2000/svg\" height=\"24px\"viewBox=\"0 0 24 24\"\n",
              "       width=\"24px\">\n",
              "    <path d=\"M0 0h24v24H0V0z\" fill=\"none\"/>\n",
              "    <path d=\"M18.56 5.44l.94 2.06.94-2.06 2.06-.94-2.06-.94-.94-2.06-.94 2.06-2.06.94zm-11 1L8.5 8.5l.94-2.06 2.06-.94-2.06-.94L8.5 2.5l-.94 2.06-2.06.94zm10 10l.94 2.06.94-2.06 2.06-.94-2.06-.94-.94-2.06-.94 2.06-2.06.94z\"/><path d=\"M17.41 7.96l-1.37-1.37c-.4-.4-.92-.59-1.43-.59-.52 0-1.04.2-1.43.59L10.3 9.45l-7.72 7.72c-.78.78-.78 2.05 0 2.83L4 21.41c.39.39.9.59 1.41.59.51 0 1.02-.2 1.41-.59l7.78-7.78 2.81-2.81c.8-.78.8-2.07 0-2.86zM5.41 20L4 18.59l7.72-7.72 1.47 1.35L5.41 20z\"/>\n",
              "  </svg>\n",
              "      </button>\n",
              "      \n",
              "  <style>\n",
              "    .colab-df-container {\n",
              "      display:flex;\n",
              "      flex-wrap:wrap;\n",
              "      gap: 12px;\n",
              "    }\n",
              "\n",
              "    .colab-df-convert {\n",
              "      background-color: #E8F0FE;\n",
              "      border: none;\n",
              "      border-radius: 50%;\n",
              "      cursor: pointer;\n",
              "      display: none;\n",
              "      fill: #1967D2;\n",
              "      height: 32px;\n",
              "      padding: 0 0 0 0;\n",
              "      width: 32px;\n",
              "    }\n",
              "\n",
              "    .colab-df-convert:hover {\n",
              "      background-color: #E2EBFA;\n",
              "      box-shadow: 0px 1px 2px rgba(60, 64, 67, 0.3), 0px 1px 3px 1px rgba(60, 64, 67, 0.15);\n",
              "      fill: #174EA6;\n",
              "    }\n",
              "\n",
              "    [theme=dark] .colab-df-convert {\n",
              "      background-color: #3B4455;\n",
              "      fill: #D2E3FC;\n",
              "    }\n",
              "\n",
              "    [theme=dark] .colab-df-convert:hover {\n",
              "      background-color: #434B5C;\n",
              "      box-shadow: 0px 1px 3px 1px rgba(0, 0, 0, 0.15);\n",
              "      filter: drop-shadow(0px 1px 2px rgba(0, 0, 0, 0.3));\n",
              "      fill: #FFFFFF;\n",
              "    }\n",
              "  </style>\n",
              "\n",
              "      <script>\n",
              "        const buttonEl =\n",
              "          document.querySelector('#df-d0bda25d-8ac4-47ef-ac5f-6b820ef494e9 button.colab-df-convert');\n",
              "        buttonEl.style.display =\n",
              "          google.colab.kernel.accessAllowed ? 'block' : 'none';\n",
              "\n",
              "        async function convertToInteractive(key) {\n",
              "          const element = document.querySelector('#df-d0bda25d-8ac4-47ef-ac5f-6b820ef494e9');\n",
              "          const dataTable =\n",
              "            await google.colab.kernel.invokeFunction('convertToInteractive',\n",
              "                                                     [key], {});\n",
              "          if (!dataTable) return;\n",
              "\n",
              "          const docLinkHtml = 'Like what you see? Visit the ' +\n",
              "            '<a target=\"_blank\" href=https://colab.research.google.com/notebooks/data_table.ipynb>data table notebook</a>'\n",
              "            + ' to learn more about interactive tables.';\n",
              "          element.innerHTML = '';\n",
              "          dataTable['output_type'] = 'display_data';\n",
              "          await google.colab.output.renderOutput(dataTable, element);\n",
              "          const docLink = document.createElement('div');\n",
              "          docLink.innerHTML = docLinkHtml;\n",
              "          element.appendChild(docLink);\n",
              "        }\n",
              "      </script>\n",
              "    </div>\n",
              "  </div>\n",
              "  "
            ],
            "text/plain": [
              "Empty DataFrame\n",
              "Columns: [Rank, Name, Platform, Year, Genre, Publisher, NA_Sales, EU_Sales, JP_Sales, Other_Sales, Global_Sales]\n",
              "Index: []"
            ]
          },
          "metadata": {},
          "execution_count": 90
        }
      ]
    },
    {
      "cell_type": "code",
      "source": [
        "# Check for null values\n",
        "videoGames_df.isnull().sum()"
      ],
      "metadata": {
        "colab": {
          "base_uri": "https://localhost:8080/"
        },
        "id": "Khy_CP7fCwp8",
        "outputId": "7a661d77-dbde-4711-e294-681e60519bf9"
      },
      "execution_count": null,
      "outputs": [
        {
          "output_type": "execute_result",
          "data": {
            "text/plain": [
              "Rank              0\n",
              "Name              0\n",
              "Platform          0\n",
              "Year            271\n",
              "Genre             0\n",
              "Publisher        58\n",
              "NA_Sales          0\n",
              "EU_Sales          0\n",
              "JP_Sales          0\n",
              "Other_Sales       0\n",
              "Global_Sales      0\n",
              "dtype: int64"
            ]
          },
          "metadata": {},
          "execution_count": 91
        }
      ]
    },
    {
      "cell_type": "code",
      "source": [
        "# Check the precentage of the null value to the overall, if it's less than %5, I will drop it\n",
        "\n",
        "#There is two ways to find out:\n",
        "\n",
        "#videoGames_df.isnull().sum() * 100 / len(df)\n",
        "videoGames_df.isnull().mean() * 100"
      ],
      "metadata": {
        "colab": {
          "base_uri": "https://localhost:8080/"
        },
        "id": "yH3TgBr9DB-Z",
        "outputId": "e3ea9f43-df51-449c-80bb-dec7c4a3f05b"
      },
      "execution_count": null,
      "outputs": [
        {
          "output_type": "execute_result",
          "data": {
            "text/plain": [
              "Rank            0.000000\n",
              "Name            0.000000\n",
              "Platform        0.000000\n",
              "Year            1.632727\n",
              "Genre           0.000000\n",
              "Publisher       0.349440\n",
              "NA_Sales        0.000000\n",
              "EU_Sales        0.000000\n",
              "JP_Sales        0.000000\n",
              "Other_Sales     0.000000\n",
              "Global_Sales    0.000000\n",
              "dtype: float64"
            ]
          },
          "metadata": {},
          "execution_count": 92
        }
      ]
    },
    {
      "cell_type": "code",
      "source": [
        "#Drop the null rows because its very low precantge\n",
        "videoGames_df = videoGames_df.dropna(axis=0, subset=['Year','Publisher'])"
      ],
      "metadata": {
        "id": "gKdtiG4aEXJw"
      },
      "execution_count": null,
      "outputs": []
    },
    {
      "cell_type": "code",
      "source": [
        "#Recheck if the null values droped\n",
        "videoGames_df.isnull().sum()"
      ],
      "metadata": {
        "colab": {
          "base_uri": "https://localhost:8080/"
        },
        "id": "UyguZlQFEnwU",
        "outputId": "a1d1d125-ccfe-4147-abd0-9f66625892ba"
      },
      "execution_count": null,
      "outputs": [
        {
          "output_type": "execute_result",
          "data": {
            "text/plain": [
              "Rank            0\n",
              "Name            0\n",
              "Platform        0\n",
              "Year            0\n",
              "Genre           0\n",
              "Publisher       0\n",
              "NA_Sales        0\n",
              "EU_Sales        0\n",
              "JP_Sales        0\n",
              "Other_Sales     0\n",
              "Global_Sales    0\n",
              "dtype: int64"
            ]
          },
          "metadata": {},
          "execution_count": 94
        }
      ]
    },
    {
      "cell_type": "code",
      "source": [
        "#Recheck the number of rows in the dataset\n",
        "videoGames_df.shape"
      ],
      "metadata": {
        "colab": {
          "base_uri": "https://localhost:8080/"
        },
        "id": "YSE0ub_9Ez8A",
        "outputId": "3406f5a2-3f8f-46db-951f-a3c6c735be4a"
      },
      "execution_count": null,
      "outputs": [
        {
          "output_type": "execute_result",
          "data": {
            "text/plain": [
              "(16291, 11)"
            ]
          },
          "metadata": {},
          "execution_count": 95
        }
      ]
    },
    {
      "cell_type": "code",
      "source": [
        "#Recheck after removing the nulls\n",
        "videoGames_df.info()"
      ],
      "metadata": {
        "colab": {
          "base_uri": "https://localhost:8080/"
        },
        "id": "f1B2ysHtHt0k",
        "outputId": "e0755e75-952c-4558-b4ac-c23e1f3579bb"
      },
      "execution_count": null,
      "outputs": [
        {
          "output_type": "stream",
          "name": "stdout",
          "text": [
            "<class 'pandas.core.frame.DataFrame'>\n",
            "Int64Index: 16291 entries, 0 to 16597\n",
            "Data columns (total 11 columns):\n",
            " #   Column        Non-Null Count  Dtype  \n",
            "---  ------        --------------  -----  \n",
            " 0   Rank          16291 non-null  int64  \n",
            " 1   Name          16291 non-null  object \n",
            " 2   Platform      16291 non-null  object \n",
            " 3   Year          16291 non-null  float64\n",
            " 4   Genre         16291 non-null  object \n",
            " 5   Publisher     16291 non-null  object \n",
            " 6   NA_Sales      16291 non-null  float64\n",
            " 7   EU_Sales      16291 non-null  float64\n",
            " 8   JP_Sales      16291 non-null  float64\n",
            " 9   Other_Sales   16291 non-null  float64\n",
            " 10  Global_Sales  16291 non-null  float64\n",
            "dtypes: float64(6), int64(1), object(4)\n",
            "memory usage: 1.5+ MB\n"
          ]
        }
      ]
    },
    {
      "cell_type": "code",
      "source": [
        "#Recheck after removing the nulls\n",
        "videoGames_df.describe()"
      ],
      "metadata": {
        "colab": {
          "base_uri": "https://localhost:8080/",
          "height": 300
        },
        "id": "suXMPWH3HuFY",
        "outputId": "cbe15a01-93ca-4256-f9e7-5d391ff25aa2"
      },
      "execution_count": null,
      "outputs": [
        {
          "output_type": "execute_result",
          "data": {
            "text/html": [
              "\n",
              "  <div id=\"df-71c7ec13-99e9-4f8b-a060-0aa5215ac246\">\n",
              "    <div class=\"colab-df-container\">\n",
              "      <div>\n",
              "<style scoped>\n",
              "    .dataframe tbody tr th:only-of-type {\n",
              "        vertical-align: middle;\n",
              "    }\n",
              "\n",
              "    .dataframe tbody tr th {\n",
              "        vertical-align: top;\n",
              "    }\n",
              "\n",
              "    .dataframe thead th {\n",
              "        text-align: right;\n",
              "    }\n",
              "</style>\n",
              "<table border=\"1\" class=\"dataframe\">\n",
              "  <thead>\n",
              "    <tr style=\"text-align: right;\">\n",
              "      <th></th>\n",
              "      <th>Rank</th>\n",
              "      <th>Year</th>\n",
              "      <th>NA_Sales</th>\n",
              "      <th>EU_Sales</th>\n",
              "      <th>JP_Sales</th>\n",
              "      <th>Other_Sales</th>\n",
              "      <th>Global_Sales</th>\n",
              "    </tr>\n",
              "  </thead>\n",
              "  <tbody>\n",
              "    <tr>\n",
              "      <th>count</th>\n",
              "      <td>16291.000000</td>\n",
              "      <td>16291.000000</td>\n",
              "      <td>16291.000000</td>\n",
              "      <td>16291.000000</td>\n",
              "      <td>16291.000000</td>\n",
              "      <td>16291.000000</td>\n",
              "      <td>16291.000000</td>\n",
              "    </tr>\n",
              "    <tr>\n",
              "      <th>mean</th>\n",
              "      <td>8290.190228</td>\n",
              "      <td>2006.405561</td>\n",
              "      <td>0.265647</td>\n",
              "      <td>0.147731</td>\n",
              "      <td>0.078833</td>\n",
              "      <td>0.048426</td>\n",
              "      <td>0.540910</td>\n",
              "    </tr>\n",
              "    <tr>\n",
              "      <th>std</th>\n",
              "      <td>4792.654450</td>\n",
              "      <td>5.832412</td>\n",
              "      <td>0.822432</td>\n",
              "      <td>0.509303</td>\n",
              "      <td>0.311879</td>\n",
              "      <td>0.190083</td>\n",
              "      <td>1.567345</td>\n",
              "    </tr>\n",
              "    <tr>\n",
              "      <th>min</th>\n",
              "      <td>1.000000</td>\n",
              "      <td>1980.000000</td>\n",
              "      <td>0.000000</td>\n",
              "      <td>0.000000</td>\n",
              "      <td>0.000000</td>\n",
              "      <td>0.000000</td>\n",
              "      <td>0.010000</td>\n",
              "    </tr>\n",
              "    <tr>\n",
              "      <th>25%</th>\n",
              "      <td>4132.500000</td>\n",
              "      <td>2003.000000</td>\n",
              "      <td>0.000000</td>\n",
              "      <td>0.000000</td>\n",
              "      <td>0.000000</td>\n",
              "      <td>0.000000</td>\n",
              "      <td>0.060000</td>\n",
              "    </tr>\n",
              "    <tr>\n",
              "      <th>50%</th>\n",
              "      <td>8292.000000</td>\n",
              "      <td>2007.000000</td>\n",
              "      <td>0.080000</td>\n",
              "      <td>0.020000</td>\n",
              "      <td>0.000000</td>\n",
              "      <td>0.010000</td>\n",
              "      <td>0.170000</td>\n",
              "    </tr>\n",
              "    <tr>\n",
              "      <th>75%</th>\n",
              "      <td>12439.500000</td>\n",
              "      <td>2010.000000</td>\n",
              "      <td>0.240000</td>\n",
              "      <td>0.110000</td>\n",
              "      <td>0.040000</td>\n",
              "      <td>0.040000</td>\n",
              "      <td>0.480000</td>\n",
              "    </tr>\n",
              "    <tr>\n",
              "      <th>max</th>\n",
              "      <td>16600.000000</td>\n",
              "      <td>2020.000000</td>\n",
              "      <td>41.490000</td>\n",
              "      <td>29.020000</td>\n",
              "      <td>10.220000</td>\n",
              "      <td>10.570000</td>\n",
              "      <td>82.740000</td>\n",
              "    </tr>\n",
              "  </tbody>\n",
              "</table>\n",
              "</div>\n",
              "      <button class=\"colab-df-convert\" onclick=\"convertToInteractive('df-71c7ec13-99e9-4f8b-a060-0aa5215ac246')\"\n",
              "              title=\"Convert this dataframe to an interactive table.\"\n",
              "              style=\"display:none;\">\n",
              "        \n",
              "  <svg xmlns=\"http://www.w3.org/2000/svg\" height=\"24px\"viewBox=\"0 0 24 24\"\n",
              "       width=\"24px\">\n",
              "    <path d=\"M0 0h24v24H0V0z\" fill=\"none\"/>\n",
              "    <path d=\"M18.56 5.44l.94 2.06.94-2.06 2.06-.94-2.06-.94-.94-2.06-.94 2.06-2.06.94zm-11 1L8.5 8.5l.94-2.06 2.06-.94-2.06-.94L8.5 2.5l-.94 2.06-2.06.94zm10 10l.94 2.06.94-2.06 2.06-.94-2.06-.94-.94-2.06-.94 2.06-2.06.94z\"/><path d=\"M17.41 7.96l-1.37-1.37c-.4-.4-.92-.59-1.43-.59-.52 0-1.04.2-1.43.59L10.3 9.45l-7.72 7.72c-.78.78-.78 2.05 0 2.83L4 21.41c.39.39.9.59 1.41.59.51 0 1.02-.2 1.41-.59l7.78-7.78 2.81-2.81c.8-.78.8-2.07 0-2.86zM5.41 20L4 18.59l7.72-7.72 1.47 1.35L5.41 20z\"/>\n",
              "  </svg>\n",
              "      </button>\n",
              "      \n",
              "  <style>\n",
              "    .colab-df-container {\n",
              "      display:flex;\n",
              "      flex-wrap:wrap;\n",
              "      gap: 12px;\n",
              "    }\n",
              "\n",
              "    .colab-df-convert {\n",
              "      background-color: #E8F0FE;\n",
              "      border: none;\n",
              "      border-radius: 50%;\n",
              "      cursor: pointer;\n",
              "      display: none;\n",
              "      fill: #1967D2;\n",
              "      height: 32px;\n",
              "      padding: 0 0 0 0;\n",
              "      width: 32px;\n",
              "    }\n",
              "\n",
              "    .colab-df-convert:hover {\n",
              "      background-color: #E2EBFA;\n",
              "      box-shadow: 0px 1px 2px rgba(60, 64, 67, 0.3), 0px 1px 3px 1px rgba(60, 64, 67, 0.15);\n",
              "      fill: #174EA6;\n",
              "    }\n",
              "\n",
              "    [theme=dark] .colab-df-convert {\n",
              "      background-color: #3B4455;\n",
              "      fill: #D2E3FC;\n",
              "    }\n",
              "\n",
              "    [theme=dark] .colab-df-convert:hover {\n",
              "      background-color: #434B5C;\n",
              "      box-shadow: 0px 1px 3px 1px rgba(0, 0, 0, 0.15);\n",
              "      filter: drop-shadow(0px 1px 2px rgba(0, 0, 0, 0.3));\n",
              "      fill: #FFFFFF;\n",
              "    }\n",
              "  </style>\n",
              "\n",
              "      <script>\n",
              "        const buttonEl =\n",
              "          document.querySelector('#df-71c7ec13-99e9-4f8b-a060-0aa5215ac246 button.colab-df-convert');\n",
              "        buttonEl.style.display =\n",
              "          google.colab.kernel.accessAllowed ? 'block' : 'none';\n",
              "\n",
              "        async function convertToInteractive(key) {\n",
              "          const element = document.querySelector('#df-71c7ec13-99e9-4f8b-a060-0aa5215ac246');\n",
              "          const dataTable =\n",
              "            await google.colab.kernel.invokeFunction('convertToInteractive',\n",
              "                                                     [key], {});\n",
              "          if (!dataTable) return;\n",
              "\n",
              "          const docLinkHtml = 'Like what you see? Visit the ' +\n",
              "            '<a target=\"_blank\" href=https://colab.research.google.com/notebooks/data_table.ipynb>data table notebook</a>'\n",
              "            + ' to learn more about interactive tables.';\n",
              "          element.innerHTML = '';\n",
              "          dataTable['output_type'] = 'display_data';\n",
              "          await google.colab.output.renderOutput(dataTable, element);\n",
              "          const docLink = document.createElement('div');\n",
              "          docLink.innerHTML = docLinkHtml;\n",
              "          element.appendChild(docLink);\n",
              "        }\n",
              "      </script>\n",
              "    </div>\n",
              "  </div>\n",
              "  "
            ],
            "text/plain": [
              "               Rank          Year  ...   Other_Sales  Global_Sales\n",
              "count  16291.000000  16291.000000  ...  16291.000000  16291.000000\n",
              "mean    8290.190228   2006.405561  ...      0.048426      0.540910\n",
              "std     4792.654450      5.832412  ...      0.190083      1.567345\n",
              "min        1.000000   1980.000000  ...      0.000000      0.010000\n",
              "25%     4132.500000   2003.000000  ...      0.000000      0.060000\n",
              "50%     8292.000000   2007.000000  ...      0.010000      0.170000\n",
              "75%    12439.500000   2010.000000  ...      0.040000      0.480000\n",
              "max    16600.000000   2020.000000  ...     10.570000     82.740000\n",
              "\n",
              "[8 rows x 7 columns]"
            ]
          },
          "metadata": {},
          "execution_count": 97
        }
      ]
    },
    {
      "cell_type": "markdown",
      "source": [
        "###EDA"
      ],
      "metadata": {
        "id": "gKWBs1XTGUZu"
      }
    },
    {
      "cell_type": "markdown",
      "source": [
        "####Which year had the highest relased games?"
      ],
      "metadata": {
        "id": "4d1bCI6HJEyU"
      }
    },
    {
      "cell_type": "code",
      "source": [
        "#Check which year is the highest number of games that released\n",
        "plt.figure(figsize=(25,10))\n",
        "sns.countplot(x=\"Year\", data=videoGames_df, order= videoGames_df['Year'].value_counts().index)\n",
        "plt.title('The highest year with relased games', fontsize=18)"
      ],
      "metadata": {
        "colab": {
          "base_uri": "https://localhost:8080/",
          "height": 494
        },
        "id": "woEibIKrJEv2",
        "outputId": "b37224d6-21ca-4e21-82b6-33655023749f"
      },
      "execution_count": null,
      "outputs": [
        {
          "output_type": "execute_result",
          "data": {
            "text/plain": [
              "Text(0.5, 1.0, 'The highest year with relased games')"
            ]
          },
          "metadata": {},
          "execution_count": 16
        },
        {
          "output_type": "display_data",
          "data": {
            "image/png": "[encoded data removed]",
            "text/plain": [
              "<Figure size 1800x720 with 1 Axes>"
            ]
          },
          "metadata": {
            "needs_background": "light"
          }
        }
      ]
    },
    {
      "cell_type": "code",
      "source": [
        "#Show the same but by dataframe\n",
        "videoGames_df['Year'].value_counts()"
      ],
      "metadata": {
        "colab": {
          "base_uri": "https://localhost:8080/"
        },
        "id": "80kv1ls5Rf2J",
        "outputId": "3cfbc541-567c-4758-f473-c08cd7fd3b5d"
      },
      "execution_count": null,
      "outputs": [
        {
          "output_type": "execute_result",
          "data": {
            "text/plain": [
              "2009.0    1431\n",
              "2008.0    1428\n",
              "2010.0    1257\n",
              "2007.0    1201\n",
              "2011.0    1136\n",
              "2006.0    1008\n",
              "2005.0     936\n",
              "2002.0     829\n",
              "2003.0     775\n",
              "2004.0     744\n",
              "2012.0     655\n",
              "2015.0     614\n",
              "2014.0     580\n",
              "2013.0     546\n",
              "2001.0     482\n",
              "1998.0     379\n",
              "2000.0     349\n",
              "2016.0     342\n",
              "1999.0     338\n",
              "1997.0     289\n",
              "1996.0     263\n",
              "1995.0     219\n",
              "1994.0     121\n",
              "1993.0      60\n",
              "1981.0      46\n",
              "1992.0      43\n",
              "1991.0      41\n",
              "1982.0      36\n",
              "1986.0      21\n",
              "1983.0      17\n",
              "1989.0      17\n",
              "1990.0      16\n",
              "1987.0      16\n",
              "1988.0      15\n",
              "1985.0      14\n",
              "1984.0      14\n",
              "1980.0       9\n",
              "2017.0       3\n",
              "2020.0       1\n",
              "Name: Year, dtype: int64"
            ]
          },
          "metadata": {},
          "execution_count": 17
        }
      ]
    },
    {
      "cell_type": "markdown",
      "source": [
        "The highest years with video games saled are 2008 and 2009"
      ],
      "metadata": {
        "id": "qrmUQxeWJ2XN"
      }
    },
    {
      "cell_type": "markdown",
      "source": [
        "####Wihch year had the highest games sold?"
      ],
      "metadata": {
        "id": "W-WdAM2PRssD"
      }
    },
    {
      "cell_type": "code",
      "source": [
        "#Create a new dataframe that will store our new values by using the groupby and use it to visulize\n",
        "highest_year=videoGames_df[[\"Year\",\"Global_Sales\"]].groupby(\"Year\").sum()\n",
        "highest_year = highest_year.reset_index()\n",
        "#highest_year = highest_year.sort_values(by=['Global_Sales'], ascending=False)"
      ],
      "metadata": {
        "id": "GnosptJMSGUj"
      },
      "execution_count": null,
      "outputs": []
    },
    {
      "cell_type": "code",
      "source": [
        "#Check which year had the highest games sold \n",
        "plt.figure(figsize=(25,10))\n",
        "sns.barplot(x=\"Year\", y=\"Global_Sales\", data=highest_year)\n",
        "plt.title('The highest year with relased games', fontsize=18)"
      ],
      "metadata": {
        "colab": {
          "base_uri": "https://localhost:8080/",
          "height": 495
        },
        "id": "bGwYB-ljRz4O",
        "outputId": "ff2c8f51-ee9c-4bfc-f98a-a073a470c7bf"
      },
      "execution_count": null,
      "outputs": [
        {
          "output_type": "execute_result",
          "data": {
            "text/plain": [
              "Text(0.5, 1.0, 'The highest year with relased games')"
            ]
          },
          "metadata": {},
          "execution_count": 19
        },
        {
          "output_type": "display_data",
          "data": {
            "image/png": "[encoded data removed]",
            "text/plain": [
              "<Figure size 1800x720 with 1 Axes>"
            ]
          },
          "metadata": {
            "needs_background": "light"
          }
        }
      ]
    },
    {
      "cell_type": "code",
      "source": [
        "#To check in the dataframe and compare\n",
        "highest_year"
      ],
      "metadata": {
        "colab": {
          "base_uri": "https://localhost:8080/",
          "height": 1000
        },
        "id": "8qT8tbS_UcbP",
        "outputId": "6a6ce13e-f43b-4257-eab8-526b01fa7745"
      },
      "execution_count": null,
      "outputs": [
        {
          "output_type": "execute_result",
          "data": {
            "text/html": [
              "\n",
              "  <div id=\"df-a1c3306e-4664-431c-862a-3ed3caa25f34\">\n",
              "    <div class=\"colab-df-container\">\n",
              "      <div>\n",
              "<style scoped>\n",
              "    .dataframe tbody tr th:only-of-type {\n",
              "        vertical-align: middle;\n",
              "    }\n",
              "\n",
              "    .dataframe tbody tr th {\n",
              "        vertical-align: top;\n",
              "    }\n",
              "\n",
              "    .dataframe thead th {\n",
              "        text-align: right;\n",
              "    }\n",
              "</style>\n",
              "<table border=\"1\" class=\"dataframe\">\n",
              "  <thead>\n",
              "    <tr style=\"text-align: right;\">\n",
              "      <th></th>\n",
              "      <th>Year</th>\n",
              "      <th>Global_Sales</th>\n",
              "    </tr>\n",
              "  </thead>\n",
              "  <tbody>\n",
              "    <tr>\n",
              "      <th>0</th>\n",
              "      <td>1980.0</td>\n",
              "      <td>11.38</td>\n",
              "    </tr>\n",
              "    <tr>\n",
              "      <th>1</th>\n",
              "      <td>1981.0</td>\n",
              "      <td>35.77</td>\n",
              "    </tr>\n",
              "    <tr>\n",
              "      <th>2</th>\n",
              "      <td>1982.0</td>\n",
              "      <td>28.86</td>\n",
              "    </tr>\n",
              "    <tr>\n",
              "      <th>3</th>\n",
              "      <td>1983.0</td>\n",
              "      <td>16.79</td>\n",
              "    </tr>\n",
              "    <tr>\n",
              "      <th>4</th>\n",
              "      <td>1984.0</td>\n",
              "      <td>50.36</td>\n",
              "    </tr>\n",
              "    <tr>\n",
              "      <th>5</th>\n",
              "      <td>1985.0</td>\n",
              "      <td>53.94</td>\n",
              "    </tr>\n",
              "    <tr>\n",
              "      <th>6</th>\n",
              "      <td>1986.0</td>\n",
              "      <td>37.07</td>\n",
              "    </tr>\n",
              "    <tr>\n",
              "      <th>7</th>\n",
              "      <td>1987.0</td>\n",
              "      <td>21.74</td>\n",
              "    </tr>\n",
              "    <tr>\n",
              "      <th>8</th>\n",
              "      <td>1988.0</td>\n",
              "      <td>47.22</td>\n",
              "    </tr>\n",
              "    <tr>\n",
              "      <th>9</th>\n",
              "      <td>1989.0</td>\n",
              "      <td>73.45</td>\n",
              "    </tr>\n",
              "    <tr>\n",
              "      <th>10</th>\n",
              "      <td>1990.0</td>\n",
              "      <td>49.39</td>\n",
              "    </tr>\n",
              "    <tr>\n",
              "      <th>11</th>\n",
              "      <td>1991.0</td>\n",
              "      <td>32.23</td>\n",
              "    </tr>\n",
              "    <tr>\n",
              "      <th>12</th>\n",
              "      <td>1992.0</td>\n",
              "      <td>76.16</td>\n",
              "    </tr>\n",
              "    <tr>\n",
              "      <th>13</th>\n",
              "      <td>1993.0</td>\n",
              "      <td>45.98</td>\n",
              "    </tr>\n",
              "    <tr>\n",
              "      <th>14</th>\n",
              "      <td>1994.0</td>\n",
              "      <td>79.17</td>\n",
              "    </tr>\n",
              "    <tr>\n",
              "      <th>15</th>\n",
              "      <td>1995.0</td>\n",
              "      <td>88.11</td>\n",
              "    </tr>\n",
              "    <tr>\n",
              "      <th>16</th>\n",
              "      <td>1996.0</td>\n",
              "      <td>199.15</td>\n",
              "    </tr>\n",
              "    <tr>\n",
              "      <th>17</th>\n",
              "      <td>1997.0</td>\n",
              "      <td>200.98</td>\n",
              "    </tr>\n",
              "    <tr>\n",
              "      <th>18</th>\n",
              "      <td>1998.0</td>\n",
              "      <td>256.47</td>\n",
              "    </tr>\n",
              "    <tr>\n",
              "      <th>19</th>\n",
              "      <td>1999.0</td>\n",
              "      <td>251.27</td>\n",
              "    </tr>\n",
              "    <tr>\n",
              "      <th>20</th>\n",
              "      <td>2000.0</td>\n",
              "      <td>201.56</td>\n",
              "    </tr>\n",
              "    <tr>\n",
              "      <th>21</th>\n",
              "      <td>2001.0</td>\n",
              "      <td>331.47</td>\n",
              "    </tr>\n",
              "    <tr>\n",
              "      <th>22</th>\n",
              "      <td>2002.0</td>\n",
              "      <td>395.52</td>\n",
              "    </tr>\n",
              "    <tr>\n",
              "      <th>23</th>\n",
              "      <td>2003.0</td>\n",
              "      <td>357.85</td>\n",
              "    </tr>\n",
              "    <tr>\n",
              "      <th>24</th>\n",
              "      <td>2004.0</td>\n",
              "      <td>414.01</td>\n",
              "    </tr>\n",
              "    <tr>\n",
              "      <th>25</th>\n",
              "      <td>2005.0</td>\n",
              "      <td>458.51</td>\n",
              "    </tr>\n",
              "    <tr>\n",
              "      <th>26</th>\n",
              "      <td>2006.0</td>\n",
              "      <td>521.04</td>\n",
              "    </tr>\n",
              "    <tr>\n",
              "      <th>27</th>\n",
              "      <td>2007.0</td>\n",
              "      <td>609.92</td>\n",
              "    </tr>\n",
              "    <tr>\n",
              "      <th>28</th>\n",
              "      <td>2008.0</td>\n",
              "      <td>678.90</td>\n",
              "    </tr>\n",
              "    <tr>\n",
              "      <th>29</th>\n",
              "      <td>2009.0</td>\n",
              "      <td>667.30</td>\n",
              "    </tr>\n",
              "    <tr>\n",
              "      <th>30</th>\n",
              "      <td>2010.0</td>\n",
              "      <td>600.29</td>\n",
              "    </tr>\n",
              "    <tr>\n",
              "      <th>31</th>\n",
              "      <td>2011.0</td>\n",
              "      <td>515.80</td>\n",
              "    </tr>\n",
              "    <tr>\n",
              "      <th>32</th>\n",
              "      <td>2012.0</td>\n",
              "      <td>363.49</td>\n",
              "    </tr>\n",
              "    <tr>\n",
              "      <th>33</th>\n",
              "      <td>2013.0</td>\n",
              "      <td>368.11</td>\n",
              "    </tr>\n",
              "    <tr>\n",
              "      <th>34</th>\n",
              "      <td>2014.0</td>\n",
              "      <td>337.03</td>\n",
              "    </tr>\n",
              "    <tr>\n",
              "      <th>35</th>\n",
              "      <td>2015.0</td>\n",
              "      <td>264.44</td>\n",
              "    </tr>\n",
              "    <tr>\n",
              "      <th>36</th>\n",
              "      <td>2016.0</td>\n",
              "      <td>70.90</td>\n",
              "    </tr>\n",
              "    <tr>\n",
              "      <th>37</th>\n",
              "      <td>2017.0</td>\n",
              "      <td>0.05</td>\n",
              "    </tr>\n",
              "    <tr>\n",
              "      <th>38</th>\n",
              "      <td>2020.0</td>\n",
              "      <td>0.29</td>\n",
              "    </tr>\n",
              "  </tbody>\n",
              "</table>\n",
              "</div>\n",
              "      <button class=\"colab-df-convert\" onclick=\"convertToInteractive('df-a1c3306e-4664-431c-862a-3ed3caa25f34')\"\n",
              "              title=\"Convert this dataframe to an interactive table.\"\n",
              "              style=\"display:none;\">\n",
              "        \n",
              "  <svg xmlns=\"http://www.w3.org/2000/svg\" height=\"24px\"viewBox=\"0 0 24 24\"\n",
              "       width=\"24px\">\n",
              "    <path d=\"M0 0h24v24H0V0z\" fill=\"none\"/>\n",
              "    <path d=\"M18.56 5.44l.94 2.06.94-2.06 2.06-.94-2.06-.94-.94-2.06-.94 2.06-2.06.94zm-11 1L8.5 8.5l.94-2.06 2.06-.94-2.06-.94L8.5 2.5l-.94 2.06-2.06.94zm10 10l.94 2.06.94-2.06 2.06-.94-2.06-.94-.94-2.06-.94 2.06-2.06.94z\"/><path d=\"M17.41 7.96l-1.37-1.37c-.4-.4-.92-.59-1.43-.59-.52 0-1.04.2-1.43.59L10.3 9.45l-7.72 7.72c-.78.78-.78 2.05 0 2.83L4 21.41c.39.39.9.59 1.41.59.51 0 1.02-.2 1.41-.59l7.78-7.78 2.81-2.81c.8-.78.8-2.07 0-2.86zM5.41 20L4 18.59l7.72-7.72 1.47 1.35L5.41 20z\"/>\n",
              "  </svg>\n",
              "      </button>\n",
              "      \n",
              "  <style>\n",
              "    .colab-df-container {\n",
              "      display:flex;\n",
              "      flex-wrap:wrap;\n",
              "      gap: 12px;\n",
              "    }\n",
              "\n",
              "    .colab-df-convert {\n",
              "      background-color: #E8F0FE;\n",
              "      border: none;\n",
              "      border-radius: 50%;\n",
              "      cursor: pointer;\n",
              "      display: none;\n",
              "      fill: #1967D2;\n",
              "      height: 32px;\n",
              "      padding: 0 0 0 0;\n",
              "      width: 32px;\n",
              "    }\n",
              "\n",
              "    .colab-df-convert:hover {\n",
              "      background-color: #E2EBFA;\n",
              "      box-shadow: 0px 1px 2px rgba(60, 64, 67, 0.3), 0px 1px 3px 1px rgba(60, 64, 67, 0.15);\n",
              "      fill: #174EA6;\n",
              "    }\n",
              "\n",
              "    [theme=dark] .colab-df-convert {\n",
              "      background-color: #3B4455;\n",
              "      fill: #D2E3FC;\n",
              "    }\n",
              "\n",
              "    [theme=dark] .colab-df-convert:hover {\n",
              "      background-color: #434B5C;\n",
              "      box-shadow: 0px 1px 3px 1px rgba(0, 0, 0, 0.15);\n",
              "      filter: drop-shadow(0px 1px 2px rgba(0, 0, 0, 0.3));\n",
              "      fill: #FFFFFF;\n",
              "    }\n",
              "  </style>\n",
              "\n",
              "      <script>\n",
              "        const buttonEl =\n",
              "          document.querySelector('#df-a1c3306e-4664-431c-862a-3ed3caa25f34 button.colab-df-convert');\n",
              "        buttonEl.style.display =\n",
              "          google.colab.kernel.accessAllowed ? 'block' : 'none';\n",
              "\n",
              "        async function convertToInteractive(key) {\n",
              "          const element = document.querySelector('#df-a1c3306e-4664-431c-862a-3ed3caa25f34');\n",
              "          const dataTable =\n",
              "            await google.colab.kernel.invokeFunction('convertToInteractive',\n",
              "                                                     [key], {});\n",
              "          if (!dataTable) return;\n",
              "\n",
              "          const docLinkHtml = 'Like what you see? Visit the ' +\n",
              "            '<a target=\"_blank\" href=https://colab.research.google.com/notebooks/data_table.ipynb>data table notebook</a>'\n",
              "            + ' to learn more about interactive tables.';\n",
              "          element.innerHTML = '';\n",
              "          dataTable['output_type'] = 'display_data';\n",
              "          await google.colab.output.renderOutput(dataTable, element);\n",
              "          const docLink = document.createElement('div');\n",
              "          docLink.innerHTML = docLinkHtml;\n",
              "          element.appendChild(docLink);\n",
              "        }\n",
              "      </script>\n",
              "    </div>\n",
              "  </div>\n",
              "  "
            ],
            "text/plain": [
              "      Year  Global_Sales\n",
              "0   1980.0         11.38\n",
              "1   1981.0         35.77\n",
              "2   1982.0         28.86\n",
              "3   1983.0         16.79\n",
              "4   1984.0         50.36\n",
              "5   1985.0         53.94\n",
              "6   1986.0         37.07\n",
              "7   1987.0         21.74\n",
              "8   1988.0         47.22\n",
              "9   1989.0         73.45\n",
              "10  1990.0         49.39\n",
              "11  1991.0         32.23\n",
              "12  1992.0         76.16\n",
              "13  1993.0         45.98\n",
              "14  1994.0         79.17\n",
              "15  1995.0         88.11\n",
              "16  1996.0        199.15\n",
              "17  1997.0        200.98\n",
              "18  1998.0        256.47\n",
              "19  1999.0        251.27\n",
              "20  2000.0        201.56\n",
              "21  2001.0        331.47\n",
              "22  2002.0        395.52\n",
              "23  2003.0        357.85\n",
              "24  2004.0        414.01\n",
              "25  2005.0        458.51\n",
              "26  2006.0        521.04\n",
              "27  2007.0        609.92\n",
              "28  2008.0        678.90\n",
              "29  2009.0        667.30\n",
              "30  2010.0        600.29\n",
              "31  2011.0        515.80\n",
              "32  2012.0        363.49\n",
              "33  2013.0        368.11\n",
              "34  2014.0        337.03\n",
              "35  2015.0        264.44\n",
              "36  2016.0         70.90\n",
              "37  2017.0          0.05\n",
              "38  2020.0          0.29"
            ]
          },
          "metadata": {},
          "execution_count": 20
        }
      ]
    },
    {
      "cell_type": "markdown",
      "source": [
        "The highest year that sold games globally is 2008"
      ],
      "metadata": {
        "id": "yzl6DKV1Uk7L"
      }
    },
    {
      "cell_type": "markdown",
      "source": [
        "####What is the highest type of video games?"
      ],
      "metadata": {
        "id": "neb2BMWdPH3G"
      }
    },
    {
      "cell_type": "code",
      "source": [
        "plt.figure(figsize=(15,5))\n",
        "sns.countplot(x=\"Genre\", data=videoGames_df, order= videoGames_df['Genre'].value_counts().index)\n",
        "plt.title('The amount games for each type in the global', fontsize=14)"
      ],
      "metadata": {
        "colab": {
          "base_uri": "https://localhost:8080/",
          "height": 370
        },
        "id": "Zoq11fyZKC6g",
        "outputId": "02c99426-06e7-4982-e5bb-9baec581fc16"
      },
      "execution_count": null,
      "outputs": [
        {
          "output_type": "execute_result",
          "data": {
            "text/plain": [
              "Text(0.5, 1.0, 'The sales of diffrent type of games in the global')"
            ]
          },
          "metadata": {},
          "execution_count": 21
        },
        {
          "output_type": "display_data",
          "data": {
            "image/png": "[encoded data removed]",
            "text/plain": [
              "<Figure size 1080x360 with 1 Axes>"
            ]
          },
          "metadata": {
            "needs_background": "light"
          }
        }
      ]
    },
    {
      "cell_type": "code",
      "source": [
        "#Show the same but by dataframe\n",
        "videoGames_df['Genre'].value_counts()"
      ],
      "metadata": {
        "colab": {
          "base_uri": "https://localhost:8080/"
        },
        "id": "_zWsSNX8SLJH",
        "outputId": "64e1530d-1fdf-4755-8e70-d9dec63feade"
      },
      "execution_count": null,
      "outputs": [
        {
          "output_type": "execute_result",
          "data": {
            "text/plain": [
              "Action          3251\n",
              "Sports          2304\n",
              "Misc            1686\n",
              "Role-Playing    1470\n",
              "Shooter         1282\n",
              "Adventure       1274\n",
              "Racing          1225\n",
              "Platform         875\n",
              "Simulation       848\n",
              "Fighting         836\n",
              "Strategy         670\n",
              "Puzzle           570\n",
              "Name: Genre, dtype: int64"
            ]
          },
          "metadata": {},
          "execution_count": 22
        }
      ]
    },
    {
      "cell_type": "markdown",
      "source": [
        "The highest type of vidoe games are Action and Sports"
      ],
      "metadata": {
        "id": "cjouDqlSRJWp"
      }
    },
    {
      "cell_type": "markdown",
      "source": [
        "####Which type of video games had the highest sold games?"
      ],
      "metadata": {
        "id": "HNm54qOlV2UM"
      }
    },
    {
      "cell_type": "code",
      "source": [
        "#Create a new dataframe that will store our new values by using the groupby and use it to visulize\n",
        "highest_type=videoGames_df[[\"Genre\",\"Global_Sales\"]].groupby(\"Genre\",sort = False).sum()\n",
        "highest_type = highest_type.reset_index()\n",
        "highest_type = highest_type.sort_values(by=['Global_Sales'], ascending=False)"
      ],
      "metadata": {
        "id": "BcJys8WtV9yW"
      },
      "execution_count": null,
      "outputs": []
    },
    {
      "cell_type": "code",
      "source": [
        "#Check which type of games had the highest games sold \n",
        "plt.figure(figsize=(15,5))\n",
        "sns.barplot(x=\"Genre\", y=\"Global_Sales\", data=highest_type)\n",
        "plt.title('The highest type of games sold globally', fontsize=18)"
      ],
      "metadata": {
        "colab": {
          "base_uri": "https://localhost:8080/",
          "height": 373
        },
        "id": "A_skB7lAWHMU",
        "outputId": "976203ee-952e-498f-a3f3-45fbf8ad488f"
      },
      "execution_count": null,
      "outputs": [
        {
          "output_type": "execute_result",
          "data": {
            "text/plain": [
              "Text(0.5, 1.0, 'The highest type of games sold')"
            ]
          },
          "metadata": {},
          "execution_count": 24
        },
        {
          "output_type": "display_data",
          "data": {
            "image/png": "[encoded data removed]",
            "text/plain": [
              "<Figure size 1080x360 with 1 Axes>"
            ]
          },
          "metadata": {
            "needs_background": "light"
          }
        }
      ]
    },
    {
      "cell_type": "code",
      "source": [
        "#To check in the dataframe and compare\n",
        "highest_type"
      ],
      "metadata": {
        "colab": {
          "base_uri": "https://localhost:8080/",
          "height": 425
        },
        "id": "LJBKji_-W6qT",
        "outputId": "e96dfa08-3287-4f53-9089-f40a2f01a45f"
      },
      "execution_count": null,
      "outputs": [
        {
          "output_type": "execute_result",
          "data": {
            "text/html": [
              "\n",
              "  <div id=\"df-25c7c963-c815-4421-9dd0-7139966486ed\">\n",
              "    <div class=\"colab-df-container\">\n",
              "      <div>\n",
              "<style scoped>\n",
              "    .dataframe tbody tr th:only-of-type {\n",
              "        vertical-align: middle;\n",
              "    }\n",
              "\n",
              "    .dataframe tbody tr th {\n",
              "        vertical-align: top;\n",
              "    }\n",
              "\n",
              "    .dataframe thead th {\n",
              "        text-align: right;\n",
              "    }\n",
              "</style>\n",
              "<table border=\"1\" class=\"dataframe\">\n",
              "  <thead>\n",
              "    <tr style=\"text-align: right;\">\n",
              "      <th></th>\n",
              "      <th>Genre</th>\n",
              "      <th>Global_Sales</th>\n",
              "    </tr>\n",
              "  </thead>\n",
              "  <tbody>\n",
              "    <tr>\n",
              "      <th>8</th>\n",
              "      <td>Action</td>\n",
              "      <td>1722.84</td>\n",
              "    </tr>\n",
              "    <tr>\n",
              "      <th>0</th>\n",
              "      <td>Sports</td>\n",
              "      <td>1309.24</td>\n",
              "    </tr>\n",
              "    <tr>\n",
              "      <th>6</th>\n",
              "      <td>Shooter</td>\n",
              "      <td>1026.20</td>\n",
              "    </tr>\n",
              "    <tr>\n",
              "      <th>3</th>\n",
              "      <td>Role-Playing</td>\n",
              "      <td>923.83</td>\n",
              "    </tr>\n",
              "    <tr>\n",
              "      <th>1</th>\n",
              "      <td>Platform</td>\n",
              "      <td>829.13</td>\n",
              "    </tr>\n",
              "    <tr>\n",
              "      <th>5</th>\n",
              "      <td>Misc</td>\n",
              "      <td>789.87</td>\n",
              "    </tr>\n",
              "    <tr>\n",
              "      <th>2</th>\n",
              "      <td>Racing</td>\n",
              "      <td>726.76</td>\n",
              "    </tr>\n",
              "    <tr>\n",
              "      <th>9</th>\n",
              "      <td>Fighting</td>\n",
              "      <td>444.05</td>\n",
              "    </tr>\n",
              "    <tr>\n",
              "      <th>7</th>\n",
              "      <td>Simulation</td>\n",
              "      <td>389.98</td>\n",
              "    </tr>\n",
              "    <tr>\n",
              "      <th>4</th>\n",
              "      <td>Puzzle</td>\n",
              "      <td>242.21</td>\n",
              "    </tr>\n",
              "    <tr>\n",
              "      <th>10</th>\n",
              "      <td>Adventure</td>\n",
              "      <td>234.59</td>\n",
              "    </tr>\n",
              "    <tr>\n",
              "      <th>11</th>\n",
              "      <td>Strategy</td>\n",
              "      <td>173.27</td>\n",
              "    </tr>\n",
              "  </tbody>\n",
              "</table>\n",
              "</div>\n",
              "      <button class=\"colab-df-convert\" onclick=\"convertToInteractive('df-25c7c963-c815-4421-9dd0-7139966486ed')\"\n",
              "              title=\"Convert this dataframe to an interactive table.\"\n",
              "              style=\"display:none;\">\n",
              "        \n",
              "  <svg xmlns=\"http://www.w3.org/2000/svg\" height=\"24px\"viewBox=\"0 0 24 24\"\n",
              "       width=\"24px\">\n",
              "    <path d=\"M0 0h24v24H0V0z\" fill=\"none\"/>\n",
              "    <path d=\"M18.56 5.44l.94 2.06.94-2.06 2.06-.94-2.06-.94-.94-2.06-.94 2.06-2.06.94zm-11 1L8.5 8.5l.94-2.06 2.06-.94-2.06-.94L8.5 2.5l-.94 2.06-2.06.94zm10 10l.94 2.06.94-2.06 2.06-.94-2.06-.94-.94-2.06-.94 2.06-2.06.94z\"/><path d=\"M17.41 7.96l-1.37-1.37c-.4-.4-.92-.59-1.43-.59-.52 0-1.04.2-1.43.59L10.3 9.45l-7.72 7.72c-.78.78-.78 2.05 0 2.83L4 21.41c.39.39.9.59 1.41.59.51 0 1.02-.2 1.41-.59l7.78-7.78 2.81-2.81c.8-.78.8-2.07 0-2.86zM5.41 20L4 18.59l7.72-7.72 1.47 1.35L5.41 20z\"/>\n",
              "  </svg>\n",
              "      </button>\n",
              "      \n",
              "  <style>\n",
              "    .colab-df-container {\n",
              "      display:flex;\n",
              "      flex-wrap:wrap;\n",
              "      gap: 12px;\n",
              "    }\n",
              "\n",
              "    .colab-df-convert {\n",
              "      background-color: #E8F0FE;\n",
              "      border: none;\n",
              "      border-radius: 50%;\n",
              "      cursor: pointer;\n",
              "      display: none;\n",
              "      fill: #1967D2;\n",
              "      height: 32px;\n",
              "      padding: 0 0 0 0;\n",
              "      width: 32px;\n",
              "    }\n",
              "\n",
              "    .colab-df-convert:hover {\n",
              "      background-color: #E2EBFA;\n",
              "      box-shadow: 0px 1px 2px rgba(60, 64, 67, 0.3), 0px 1px 3px 1px rgba(60, 64, 67, 0.15);\n",
              "      fill: #174EA6;\n",
              "    }\n",
              "\n",
              "    [theme=dark] .colab-df-convert {\n",
              "      background-color: #3B4455;\n",
              "      fill: #D2E3FC;\n",
              "    }\n",
              "\n",
              "    [theme=dark] .colab-df-convert:hover {\n",
              "      background-color: #434B5C;\n",
              "      box-shadow: 0px 1px 3px 1px rgba(0, 0, 0, 0.15);\n",
              "      filter: drop-shadow(0px 1px 2px rgba(0, 0, 0, 0.3));\n",
              "      fill: #FFFFFF;\n",
              "    }\n",
              "  </style>\n",
              "\n",
              "      <script>\n",
              "        const buttonEl =\n",
              "          document.querySelector('#df-25c7c963-c815-4421-9dd0-7139966486ed button.colab-df-convert');\n",
              "        buttonEl.style.display =\n",
              "          google.colab.kernel.accessAllowed ? 'block' : 'none';\n",
              "\n",
              "        async function convertToInteractive(key) {\n",
              "          const element = document.querySelector('#df-25c7c963-c815-4421-9dd0-7139966486ed');\n",
              "          const dataTable =\n",
              "            await google.colab.kernel.invokeFunction('convertToInteractive',\n",
              "                                                     [key], {});\n",
              "          if (!dataTable) return;\n",
              "\n",
              "          const docLinkHtml = 'Like what you see? Visit the ' +\n",
              "            '<a target=\"_blank\" href=https://colab.research.google.com/notebooks/data_table.ipynb>data table notebook</a>'\n",
              "            + ' to learn more about interactive tables.';\n",
              "          element.innerHTML = '';\n",
              "          dataTable['output_type'] = 'display_data';\n",
              "          await google.colab.output.renderOutput(dataTable, element);\n",
              "          const docLink = document.createElement('div');\n",
              "          docLink.innerHTML = docLinkHtml;\n",
              "          element.appendChild(docLink);\n",
              "        }\n",
              "      </script>\n",
              "    </div>\n",
              "  </div>\n",
              "  "
            ],
            "text/plain": [
              "           Genre  Global_Sales\n",
              "8         Action       1722.84\n",
              "0         Sports       1309.24\n",
              "6        Shooter       1026.20\n",
              "3   Role-Playing        923.83\n",
              "1       Platform        829.13\n",
              "5           Misc        789.87\n",
              "2         Racing        726.76\n",
              "9       Fighting        444.05\n",
              "7     Simulation        389.98\n",
              "4         Puzzle        242.21\n",
              "10     Adventure        234.59\n",
              "11      Strategy        173.27"
            ]
          },
          "metadata": {},
          "execution_count": 25
        }
      ]
    },
    {
      "cell_type": "markdown",
      "source": [
        "####Which platform had the highest games sold?"
      ],
      "metadata": {
        "id": "VuGiQbtxROb8"
      }
    },
    {
      "cell_type": "code",
      "source": [
        "#Create a new dataframe that will store our new values by using the groupby and use it to visulize\n",
        "highest_platform=videoGames_df[[\"Platform\",\"Global_Sales\"]].groupby(\"Platform\",sort = False).sum()\n",
        "highest_platform = highest_platform.reset_index()\n",
        "highest_platform = highest_platform.sort_values(by=['Global_Sales'], ascending=False)"
      ],
      "metadata": {
        "id": "Zi2LLQVvWvMQ"
      },
      "execution_count": null,
      "outputs": []
    },
    {
      "cell_type": "code",
      "source": [
        "#Check which platfrom  had the highest games sold \n",
        "plt.figure(figsize=(15,10))\n",
        "sns.barplot(x=\"Platform\", y=\"Global_Sales\", data=highest_platform)\n",
        "plt.title('The highest platfrom with sold games', fontsize=18)"
      ],
      "metadata": {
        "colab": {
          "base_uri": "https://localhost:8080/",
          "height": 644
        },
        "id": "oSK6-o7nMaPX",
        "outputId": "9d41bb00-2a56-4df5-8683-811da5d1c327"
      },
      "execution_count": null,
      "outputs": [
        {
          "output_type": "execute_result",
          "data": {
            "text/plain": [
              "Text(0.5, 1.0, 'The highest platfrom with sold games')"
            ]
          },
          "metadata": {},
          "execution_count": 27
        },
        {
          "output_type": "display_data",
          "data": {
            "image/png": "[encoded data removed]",
            "text/plain": [
              "<Figure size 1080x720 with 1 Axes>"
            ]
          },
          "metadata": {
            "needs_background": "light"
          }
        }
      ]
    },
    {
      "cell_type": "code",
      "source": [
        "#To check in the dataframe and compare\n",
        "highest_platform.head(10)"
      ],
      "metadata": {
        "colab": {
          "base_uri": "https://localhost:8080/",
          "height": 363
        },
        "id": "svNe-4y_YJ2Q",
        "outputId": "2d4fff1a-286c-4f62-c8c7-caa2ba016333"
      },
      "execution_count": null,
      "outputs": [
        {
          "output_type": "execute_result",
          "data": {
            "text/html": [
              "\n",
              "  <div id=\"df-c0253f8f-f953-4cca-b637-d9a613c0bbc8\">\n",
              "    <div class=\"colab-df-container\">\n",
              "      <div>\n",
              "<style scoped>\n",
              "    .dataframe tbody tr th:only-of-type {\n",
              "        vertical-align: middle;\n",
              "    }\n",
              "\n",
              "    .dataframe tbody tr th {\n",
              "        vertical-align: top;\n",
              "    }\n",
              "\n",
              "    .dataframe thead th {\n",
              "        text-align: right;\n",
              "    }\n",
              "</style>\n",
              "<table border=\"1\" class=\"dataframe\">\n",
              "  <thead>\n",
              "    <tr style=\"text-align: right;\">\n",
              "      <th></th>\n",
              "      <th>Platform</th>\n",
              "      <th>Global_Sales</th>\n",
              "    </tr>\n",
              "  </thead>\n",
              "  <tbody>\n",
              "    <tr>\n",
              "      <th>6</th>\n",
              "      <td>PS2</td>\n",
              "      <td>1233.46</td>\n",
              "    </tr>\n",
              "    <tr>\n",
              "      <th>4</th>\n",
              "      <td>X360</td>\n",
              "      <td>969.60</td>\n",
              "    </tr>\n",
              "    <tr>\n",
              "      <th>5</th>\n",
              "      <td>PS3</td>\n",
              "      <td>949.35</td>\n",
              "    </tr>\n",
              "    <tr>\n",
              "      <th>0</th>\n",
              "      <td>Wii</td>\n",
              "      <td>909.81</td>\n",
              "    </tr>\n",
              "    <tr>\n",
              "      <th>3</th>\n",
              "      <td>DS</td>\n",
              "      <td>818.91</td>\n",
              "    </tr>\n",
              "    <tr>\n",
              "      <th>12</th>\n",
              "      <td>PS</td>\n",
              "      <td>727.39</td>\n",
              "    </tr>\n",
              "    <tr>\n",
              "      <th>8</th>\n",
              "      <td>GBA</td>\n",
              "      <td>305.62</td>\n",
              "    </tr>\n",
              "    <tr>\n",
              "      <th>16</th>\n",
              "      <td>PSP</td>\n",
              "      <td>291.71</td>\n",
              "    </tr>\n",
              "    <tr>\n",
              "      <th>10</th>\n",
              "      <td>PS4</td>\n",
              "      <td>278.10</td>\n",
              "    </tr>\n",
              "    <tr>\n",
              "      <th>14</th>\n",
              "      <td>PC</td>\n",
              "      <td>254.70</td>\n",
              "    </tr>\n",
              "  </tbody>\n",
              "</table>\n",
              "</div>\n",
              "      <button class=\"colab-df-convert\" onclick=\"convertToInteractive('df-c0253f8f-f953-4cca-b637-d9a613c0bbc8')\"\n",
              "              title=\"Convert this dataframe to an interactive table.\"\n",
              "              style=\"display:none;\">\n",
              "        \n",
              "  <svg xmlns=\"http://www.w3.org/2000/svg\" height=\"24px\"viewBox=\"0 0 24 24\"\n",
              "       width=\"24px\">\n",
              "    <path d=\"M0 0h24v24H0V0z\" fill=\"none\"/>\n",
              "    <path d=\"M18.56 5.44l.94 2.06.94-2.06 2.06-.94-2.06-.94-.94-2.06-.94 2.06-2.06.94zm-11 1L8.5 8.5l.94-2.06 2.06-.94-2.06-.94L8.5 2.5l-.94 2.06-2.06.94zm10 10l.94 2.06.94-2.06 2.06-.94-2.06-.94-.94-2.06-.94 2.06-2.06.94z\"/><path d=\"M17.41 7.96l-1.37-1.37c-.4-.4-.92-.59-1.43-.59-.52 0-1.04.2-1.43.59L10.3 9.45l-7.72 7.72c-.78.78-.78 2.05 0 2.83L4 21.41c.39.39.9.59 1.41.59.51 0 1.02-.2 1.41-.59l7.78-7.78 2.81-2.81c.8-.78.8-2.07 0-2.86zM5.41 20L4 18.59l7.72-7.72 1.47 1.35L5.41 20z\"/>\n",
              "  </svg>\n",
              "      </button>\n",
              "      \n",
              "  <style>\n",
              "    .colab-df-container {\n",
              "      display:flex;\n",
              "      flex-wrap:wrap;\n",
              "      gap: 12px;\n",
              "    }\n",
              "\n",
              "    .colab-df-convert {\n",
              "      background-color: #E8F0FE;\n",
              "      border: none;\n",
              "      border-radius: 50%;\n",
              "      cursor: pointer;\n",
              "      display: none;\n",
              "      fill: #1967D2;\n",
              "      height: 32px;\n",
              "      padding: 0 0 0 0;\n",
              "      width: 32px;\n",
              "    }\n",
              "\n",
              "    .colab-df-convert:hover {\n",
              "      background-color: #E2EBFA;\n",
              "      box-shadow: 0px 1px 2px rgba(60, 64, 67, 0.3), 0px 1px 3px 1px rgba(60, 64, 67, 0.15);\n",
              "      fill: #174EA6;\n",
              "    }\n",
              "\n",
              "    [theme=dark] .colab-df-convert {\n",
              "      background-color: #3B4455;\n",
              "      fill: #D2E3FC;\n",
              "    }\n",
              "\n",
              "    [theme=dark] .colab-df-convert:hover {\n",
              "      background-color: #434B5C;\n",
              "      box-shadow: 0px 1px 3px 1px rgba(0, 0, 0, 0.15);\n",
              "      filter: drop-shadow(0px 1px 2px rgba(0, 0, 0, 0.3));\n",
              "      fill: #FFFFFF;\n",
              "    }\n",
              "  </style>\n",
              "\n",
              "      <script>\n",
              "        const buttonEl =\n",
              "          document.querySelector('#df-c0253f8f-f953-4cca-b637-d9a613c0bbc8 button.colab-df-convert');\n",
              "        buttonEl.style.display =\n",
              "          google.colab.kernel.accessAllowed ? 'block' : 'none';\n",
              "\n",
              "        async function convertToInteractive(key) {\n",
              "          const element = document.querySelector('#df-c0253f8f-f953-4cca-b637-d9a613c0bbc8');\n",
              "          const dataTable =\n",
              "            await google.colab.kernel.invokeFunction('convertToInteractive',\n",
              "                                                     [key], {});\n",
              "          if (!dataTable) return;\n",
              "\n",
              "          const docLinkHtml = 'Like what you see? Visit the ' +\n",
              "            '<a target=\"_blank\" href=https://colab.research.google.com/notebooks/data_table.ipynb>data table notebook</a>'\n",
              "            + ' to learn more about interactive tables.';\n",
              "          element.innerHTML = '';\n",
              "          dataTable['output_type'] = 'display_data';\n",
              "          await google.colab.output.renderOutput(dataTable, element);\n",
              "          const docLink = document.createElement('div');\n",
              "          docLink.innerHTML = docLinkHtml;\n",
              "          element.appendChild(docLink);\n",
              "        }\n",
              "      </script>\n",
              "    </div>\n",
              "  </div>\n",
              "  "
            ],
            "text/plain": [
              "   Platform  Global_Sales\n",
              "6       PS2       1233.46\n",
              "4      X360        969.60\n",
              "5       PS3        949.35\n",
              "0       Wii        909.81\n",
              "3        DS        818.91\n",
              "12       PS        727.39\n",
              "8       GBA        305.62\n",
              "16      PSP        291.71\n",
              "10      PS4        278.10\n",
              "14       PC        254.70"
            ]
          },
          "metadata": {},
          "execution_count": 28
        }
      ]
    },
    {
      "cell_type": "markdown",
      "source": [
        "The highest platform sold games is PS2"
      ],
      "metadata": {
        "id": "VfTVYYmYYSoC"
      }
    },
    {
      "cell_type": "markdown",
      "source": [
        "####Which publisher had the highest relased games?"
      ],
      "metadata": {
        "id": "2dVyUvXZZnZ1"
      }
    },
    {
      "cell_type": "code",
      "source": [
        "#Vizulize the top 10 only\n",
        "plt.figure(figsize=(20,5))\n",
        "sns.countplot(x=\"Publisher\", data=videoGames_df, order= videoGames_df.groupby(by=['Publisher'])['Year'].count()\n",
        ".sort_values(ascending=False).iloc[:10].index)\n",
        "\n",
        "plt.title('Top 10 publisher that had relased games', fontsize=14)"
      ],
      "metadata": {
        "colab": {
          "base_uri": "https://localhost:8080/",
          "height": 347
        },
        "id": "XewrvAWWPbtH",
        "outputId": "9568c3b3-c542-4ceb-ad02-bc29851ba625"
      },
      "execution_count": null,
      "outputs": [
        {
          "output_type": "execute_result",
          "data": {
            "text/plain": [
              "Text(0.5, 1.0, 'Top 10 publisher that had relased games')"
            ]
          },
          "metadata": {},
          "execution_count": 29
        },
        {
          "output_type": "display_data",
          "data": {
            "image/png": "[encoded data removed]",
            "text/plain": [
              "<Figure size 1440x360 with 1 Axes>"
            ]
          },
          "metadata": {
            "needs_background": "light"
          }
        }
      ]
    },
    {
      "cell_type": "code",
      "source": [
        "#Check it on data frame and numric values\n",
        "videoGames_df['Publisher'].value_counts().head(10)"
      ],
      "metadata": {
        "colab": {
          "base_uri": "https://localhost:8080/"
        },
        "id": "HplgQcH1be5H",
        "outputId": "7df7d053-14d0-42cf-f7e2-5432a48e952e"
      },
      "execution_count": null,
      "outputs": [
        {
          "output_type": "execute_result",
          "data": {
            "text/plain": [
              "Electronic Arts                 1339\n",
              "Activision                       966\n",
              "Namco Bandai Games               928\n",
              "Ubisoft                          918\n",
              "Konami Digital Entertainment     823\n",
              "THQ                              712\n",
              "Nintendo                         696\n",
              "Sony Computer Entertainment      682\n",
              "Sega                             632\n",
              "Take-Two Interactive             412\n",
              "Name: Publisher, dtype: int64"
            ]
          },
          "metadata": {},
          "execution_count": 30
        }
      ]
    },
    {
      "cell_type": "markdown",
      "source": [
        "The highest publisher that had the highest relased games is Electronic Arts, which could be the reason of the sport games they have such as fifa \n"
      ],
      "metadata": {
        "id": "VDX0Iat0cFUa"
      }
    },
    {
      "cell_type": "markdown",
      "source": [
        "####Which publisher had the highest sold games?"
      ],
      "metadata": {
        "id": "X1Vt6AKWcWFS"
      }
    },
    {
      "cell_type": "code",
      "source": [
        "#Create a new dataframe that will store our new values by using the groupby and use it to visulize\n",
        "highest_publisher =videoGames_df[[\"Publisher\",\"Global_Sales\"]].groupby(\"Publisher\",sort = False).sum()\n",
        "highest_publisher = highest_publisher.reset_index()\n",
        "highest_publisher = highest_publisher.sort_values(by=['Global_Sales'], ascending=False).iloc[:10]"
      ],
      "metadata": {
        "id": "LylETF5vcagb"
      },
      "execution_count": null,
      "outputs": []
    },
    {
      "cell_type": "code",
      "source": [
        "#Check which publisher had the highest games sold (only top 10) \n",
        "plt.figure(figsize=(20,5))\n",
        "sns.barplot(x=\"Publisher\", y=\"Global_Sales\", data=highest_publisher)\n",
        "plt.title('Top 10 publisher with sales', fontsize=18)"
      ],
      "metadata": {
        "colab": {
          "base_uri": "https://localhost:8080/",
          "height": 349
        },
        "id": "aEcYPoCgcwGG",
        "outputId": "5c8a4413-c836-4569-c8b3-72845d451ed4"
      },
      "execution_count": null,
      "outputs": [
        {
          "output_type": "execute_result",
          "data": {
            "text/plain": [
              "Text(0.5, 1.0, 'Top 10 publisher with sales')"
            ]
          },
          "metadata": {},
          "execution_count": 32
        },
        {
          "output_type": "display_data",
          "data": {
            "image/png": "[encoded data removed]",
            "text/plain": [
              "<Figure size 1440x360 with 1 Axes>"
            ]
          },
          "metadata": {
            "needs_background": "light"
          }
        }
      ]
    },
    {
      "cell_type": "code",
      "source": [
        "#Check for numrical data with dataframe\n",
        "highest_publisher"
      ],
      "metadata": {
        "colab": {
          "base_uri": "https://localhost:8080/",
          "height": 363
        },
        "id": "M5PIODBtdR-L",
        "outputId": "05db0b3b-39e7-41c5-a881-b66e366392b7"
      },
      "execution_count": null,
      "outputs": [
        {
          "output_type": "execute_result",
          "data": {
            "text/html": [
              "\n",
              "  <div id=\"df-21930794-a189-4b7c-a230-9d5b1e9b4a56\">\n",
              "    <div class=\"colab-df-container\">\n",
              "      <div>\n",
              "<style scoped>\n",
              "    .dataframe tbody tr th:only-of-type {\n",
              "        vertical-align: middle;\n",
              "    }\n",
              "\n",
              "    .dataframe tbody tr th {\n",
              "        vertical-align: top;\n",
              "    }\n",
              "\n",
              "    .dataframe thead th {\n",
              "        text-align: right;\n",
              "    }\n",
              "</style>\n",
              "<table border=\"1\" class=\"dataframe\">\n",
              "  <thead>\n",
              "    <tr style=\"text-align: right;\">\n",
              "      <th></th>\n",
              "      <th>Publisher</th>\n",
              "      <th>Global_Sales</th>\n",
              "    </tr>\n",
              "  </thead>\n",
              "  <tbody>\n",
              "    <tr>\n",
              "      <th>0</th>\n",
              "      <td>Nintendo</td>\n",
              "      <td>1786.56</td>\n",
              "    </tr>\n",
              "    <tr>\n",
              "      <th>7</th>\n",
              "      <td>Electronic Arts</td>\n",
              "      <td>1110.32</td>\n",
              "    </tr>\n",
              "    <tr>\n",
              "      <th>4</th>\n",
              "      <td>Activision</td>\n",
              "      <td>727.46</td>\n",
              "    </tr>\n",
              "    <tr>\n",
              "      <th>3</th>\n",
              "      <td>Sony Computer Entertainment</td>\n",
              "      <td>607.50</td>\n",
              "    </tr>\n",
              "    <tr>\n",
              "      <th>5</th>\n",
              "      <td>Ubisoft</td>\n",
              "      <td>474.72</td>\n",
              "    </tr>\n",
              "    <tr>\n",
              "      <th>2</th>\n",
              "      <td>Take-Two Interactive</td>\n",
              "      <td>399.54</td>\n",
              "    </tr>\n",
              "    <tr>\n",
              "      <th>28</th>\n",
              "      <td>THQ</td>\n",
              "      <td>340.77</td>\n",
              "    </tr>\n",
              "    <tr>\n",
              "      <th>14</th>\n",
              "      <td>Konami Digital Entertainment</td>\n",
              "      <td>283.64</td>\n",
              "    </tr>\n",
              "    <tr>\n",
              "      <th>8</th>\n",
              "      <td>Sega</td>\n",
              "      <td>272.99</td>\n",
              "    </tr>\n",
              "    <tr>\n",
              "      <th>25</th>\n",
              "      <td>Namco Bandai Games</td>\n",
              "      <td>254.09</td>\n",
              "    </tr>\n",
              "  </tbody>\n",
              "</table>\n",
              "</div>\n",
              "      <button class=\"colab-df-convert\" onclick=\"convertToInteractive('df-21930794-a189-4b7c-a230-9d5b1e9b4a56')\"\n",
              "              title=\"Convert this dataframe to an interactive table.\"\n",
              "              style=\"display:none;\">\n",
              "        \n",
              "  <svg xmlns=\"http://www.w3.org/2000/svg\" height=\"24px\"viewBox=\"0 0 24 24\"\n",
              "       width=\"24px\">\n",
              "    <path d=\"M0 0h24v24H0V0z\" fill=\"none\"/>\n",
              "    <path d=\"M18.56 5.44l.94 2.06.94-2.06 2.06-.94-2.06-.94-.94-2.06-.94 2.06-2.06.94zm-11 1L8.5 8.5l.94-2.06 2.06-.94-2.06-.94L8.5 2.5l-.94 2.06-2.06.94zm10 10l.94 2.06.94-2.06 2.06-.94-2.06-.94-.94-2.06-.94 2.06-2.06.94z\"/><path d=\"M17.41 7.96l-1.37-1.37c-.4-.4-.92-.59-1.43-.59-.52 0-1.04.2-1.43.59L10.3 9.45l-7.72 7.72c-.78.78-.78 2.05 0 2.83L4 21.41c.39.39.9.59 1.41.59.51 0 1.02-.2 1.41-.59l7.78-7.78 2.81-2.81c.8-.78.8-2.07 0-2.86zM5.41 20L4 18.59l7.72-7.72 1.47 1.35L5.41 20z\"/>\n",
              "  </svg>\n",
              "      </button>\n",
              "      \n",
              "  <style>\n",
              "    .colab-df-container {\n",
              "      display:flex;\n",
              "      flex-wrap:wrap;\n",
              "      gap: 12px;\n",
              "    }\n",
              "\n",
              "    .colab-df-convert {\n",
              "      background-color: #E8F0FE;\n",
              "      border: none;\n",
              "      border-radius: 50%;\n",
              "      cursor: pointer;\n",
              "      display: none;\n",
              "      fill: #1967D2;\n",
              "      height: 32px;\n",
              "      padding: 0 0 0 0;\n",
              "      width: 32px;\n",
              "    }\n",
              "\n",
              "    .colab-df-convert:hover {\n",
              "      background-color: #E2EBFA;\n",
              "      box-shadow: 0px 1px 2px rgba(60, 64, 67, 0.3), 0px 1px 3px 1px rgba(60, 64, 67, 0.15);\n",
              "      fill: #174EA6;\n",
              "    }\n",
              "\n",
              "    [theme=dark] .colab-df-convert {\n",
              "      background-color: #3B4455;\n",
              "      fill: #D2E3FC;\n",
              "    }\n",
              "\n",
              "    [theme=dark] .colab-df-convert:hover {\n",
              "      background-color: #434B5C;\n",
              "      box-shadow: 0px 1px 3px 1px rgba(0, 0, 0, 0.15);\n",
              "      filter: drop-shadow(0px 1px 2px rgba(0, 0, 0, 0.3));\n",
              "      fill: #FFFFFF;\n",
              "    }\n",
              "  </style>\n",
              "\n",
              "      <script>\n",
              "        const buttonEl =\n",
              "          document.querySelector('#df-21930794-a189-4b7c-a230-9d5b1e9b4a56 button.colab-df-convert');\n",
              "        buttonEl.style.display =\n",
              "          google.colab.kernel.accessAllowed ? 'block' : 'none';\n",
              "\n",
              "        async function convertToInteractive(key) {\n",
              "          const element = document.querySelector('#df-21930794-a189-4b7c-a230-9d5b1e9b4a56');\n",
              "          const dataTable =\n",
              "            await google.colab.kernel.invokeFunction('convertToInteractive',\n",
              "                                                     [key], {});\n",
              "          if (!dataTable) return;\n",
              "\n",
              "          const docLinkHtml = 'Like what you see? Visit the ' +\n",
              "            '<a target=\"_blank\" href=https://colab.research.google.com/notebooks/data_table.ipynb>data table notebook</a>'\n",
              "            + ' to learn more about interactive tables.';\n",
              "          element.innerHTML = '';\n",
              "          dataTable['output_type'] = 'display_data';\n",
              "          await google.colab.output.renderOutput(dataTable, element);\n",
              "          const docLink = document.createElement('div');\n",
              "          docLink.innerHTML = docLinkHtml;\n",
              "          element.appendChild(docLink);\n",
              "        }\n",
              "      </script>\n",
              "    </div>\n",
              "  </div>\n",
              "  "
            ],
            "text/plain": [
              "                       Publisher  Global_Sales\n",
              "0                       Nintendo       1786.56\n",
              "7                Electronic Arts       1110.32\n",
              "4                     Activision        727.46\n",
              "3    Sony Computer Entertainment        607.50\n",
              "5                        Ubisoft        474.72\n",
              "2           Take-Two Interactive        399.54\n",
              "28                           THQ        340.77\n",
              "14  Konami Digital Entertainment        283.64\n",
              "8                           Sega        272.99\n",
              "25            Namco Bandai Games        254.09"
            ]
          },
          "metadata": {},
          "execution_count": 49
        }
      ]
    },
    {
      "cell_type": "markdown",
      "source": [
        "Note that Nintendo has the highest sold games even though its the number 7 of released games!"
      ],
      "metadata": {
        "id": "zmZrLnMydYAj"
      }
    },
    {
      "cell_type": "markdown",
      "source": [
        "####What are the precentages of regions sales to global sales?\n"
      ],
      "metadata": {
        "id": "8092ue7Gdjkh"
      }
    },
    {
      "cell_type": "code",
      "source": [
        "#Get all the region sales to new data frame to visulize it\n",
        "regions_sales = videoGames_df[['NA_Sales', 'EU_Sales', 'JP_Sales', 'Other_Sales']]\n",
        "regions_sales = regions_sales.sum().reset_index()\n",
        "regions_sales = regions_sales.rename(columns={\"index\": \"regions\", 0: \"sales\"})\n",
        "#regions_sales"
      ],
      "metadata": {
        "id": "iHYtESUKdurg"
      },
      "execution_count": null,
      "outputs": []
    },
    {
      "cell_type": "code",
      "source": [
        "#autopct to set the precentages, startangle to set the rotation of the pie\n",
        "plt.figure(figsize=(10, 5))\n",
        "plt.pie(regions_sales['sales'], labels=regions_sales['regions'], autopct='%1.1f%%',  startangle=90)"
      ],
      "metadata": {
        "colab": {
          "base_uri": "https://localhost:8080/",
          "height": 527
        },
        "id": "a0JG2UL4eU7t",
        "outputId": "7f0b4c16-df5e-42cb-adcf-5f37fe063054"
      },
      "execution_count": null,
      "outputs": [
        {
          "output_type": "execute_result",
          "data": {
            "text/plain": [
              "([<matplotlib.patches.Wedge at 0x7f0fdc1bd890>,\n",
              "  <matplotlib.patches.Wedge at 0x7f0fda9de1d0>,\n",
              "  <matplotlib.patches.Wedge at 0x7f0fdb09a5d0>,\n",
              "  <matplotlib.patches.Wedge at 0x7f0fdab09a90>],\n",
              " [Text(-1.0995946696115964, 0.029859044890360037, 'NA_Sales'),\n",
              "  Text(0.7922706574673692, -0.7630905616741847, 'EU_Sales'),\n",
              "  Text(0.9378314250625531, 0.5748671308790761, 'JP_Sales'),\n",
              "  Text(0.30547029027007794, 1.056734546497991, 'Other_Sales')],\n",
              " [Text(-0.5997789106972343, 0.0162867517583782, '49.1%'),\n",
              "  Text(0.4321476313458377, -0.4162312154586461, '27.3%'),\n",
              "  Text(0.5115444136704835, 0.3135638895704051, '14.6%'),\n",
              "  Text(0.1666201583291334, 0.5764006617261768, '9.0%')])"
            ]
          },
          "metadata": {},
          "execution_count": 34
        },
        {
          "output_type": "display_data",
          "data": {
            "image/png": "[encoded data removed]",
            "text/plain": [
              "<Figure size 720x360 with 1 Axes>"
            ]
          },
          "metadata": {}
        }
      ]
    },
    {
      "cell_type": "markdown",
      "source": [
        "####Determine the best features suited for the model to predict global sales \n"
      ],
      "metadata": {
        "id": "FT2vwLi1fZle"
      }
    },
    {
      "cell_type": "markdown",
      "source": [
        "I will use three things to help me determine the best features and its corrleation, which are: pair plot, heatmap, and corr function"
      ],
      "metadata": {
        "id": "3gajcPZU4af9"
      }
    },
    {
      "cell_type": "code",
      "source": [
        "sns.pairplot(videoGames_df)"
      ],
      "metadata": {
        "colab": {
          "base_uri": "https://localhost:8080/",
          "height": 1000
        },
        "id": "OK098bVi16LF",
        "outputId": "0e37fae5-db35-404f-8a25-b3304660125a"
      },
      "execution_count": null,
      "outputs": [
        {
          "output_type": "execute_result",
          "data": {
            "text/plain": [
              "<seaborn.axisgrid.PairGrid at 0x7f2e798eb6d0>"
            ]
          },
          "metadata": {},
          "execution_count": 98
        },
        {
          "output_type": "display_data",
          "data": {
            "image/png": "[encoded data removed]",
            "text/plain": [
              "<Figure size 1260x1260 with 56 Axes>"
            ]
          },
          "metadata": {
            "needs_background": "light"
          }
        }
      ]
    },
    {
      "cell_type": "code",
      "source": [
        "plt.figure(figsize=(20, 10))\n",
        "sns.heatmap(videoGames_df.corr(), cmap = \"Blues\", annot=True, linewidth=2)"
      ],
      "metadata": {
        "colab": {
          "base_uri": "https://localhost:8080/",
          "height": 615
        },
        "id": "GZQLGGuf3_4M",
        "outputId": "3b7767be-2c40-4b2d-b7fb-44fcba645a5d"
      },
      "execution_count": null,
      "outputs": [
        {
          "output_type": "execute_result",
          "data": {
            "text/plain": [
              "<matplotlib.axes._subplots.AxesSubplot at 0x7f2e6f6ed650>"
            ]
          },
          "metadata": {},
          "execution_count": 99
        },
        {
          "output_type": "display_data",
          "data": {
            "image/png": "[encoded data removed]",
            "text/plain": [
              "<Figure size 1440x720 with 2 Axes>"
            ]
          },
          "metadata": {
            "needs_background": "light"
          }
        }
      ]
    },
    {
      "cell_type": "code",
      "source": [
        "videoGames_df.corr()"
      ],
      "metadata": {
        "colab": {
          "base_uri": "https://localhost:8080/",
          "height": 269
        },
        "id": "_1Jx4Hae5mym",
        "outputId": "c6c4a4ea-fa0c-412a-b120-14707fa40ced"
      },
      "execution_count": null,
      "outputs": [
        {
          "output_type": "execute_result",
          "data": {
            "text/html": [
              "\n",
              "  <div id=\"df-69f2e1fa-c3a8-4915-8f17-ef84f7d77a0c\">\n",
              "    <div class=\"colab-df-container\">\n",
              "      <div>\n",
              "<style scoped>\n",
              "    .dataframe tbody tr th:only-of-type {\n",
              "        vertical-align: middle;\n",
              "    }\n",
              "\n",
              "    .dataframe tbody tr th {\n",
              "        vertical-align: top;\n",
              "    }\n",
              "\n",
              "    .dataframe thead th {\n",
              "        text-align: right;\n",
              "    }\n",
              "</style>\n",
              "<table border=\"1\" class=\"dataframe\">\n",
              "  <thead>\n",
              "    <tr style=\"text-align: right;\">\n",
              "      <th></th>\n",
              "      <th>Rank</th>\n",
              "      <th>Year</th>\n",
              "      <th>NA_Sales</th>\n",
              "      <th>EU_Sales</th>\n",
              "      <th>JP_Sales</th>\n",
              "      <th>Other_Sales</th>\n",
              "      <th>Global_Sales</th>\n",
              "    </tr>\n",
              "  </thead>\n",
              "  <tbody>\n",
              "    <tr>\n",
              "      <th>Rank</th>\n",
              "      <td>1.000000</td>\n",
              "      <td>0.178027</td>\n",
              "      <td>-0.400315</td>\n",
              "      <td>-0.379137</td>\n",
              "      <td>-0.269323</td>\n",
              "      <td>-0.332735</td>\n",
              "      <td>-0.426975</td>\n",
              "    </tr>\n",
              "    <tr>\n",
              "      <th>Year</th>\n",
              "      <td>0.178027</td>\n",
              "      <td>1.000000</td>\n",
              "      <td>-0.091285</td>\n",
              "      <td>0.006108</td>\n",
              "      <td>-0.169387</td>\n",
              "      <td>0.041128</td>\n",
              "      <td>-0.074647</td>\n",
              "    </tr>\n",
              "    <tr>\n",
              "      <th>NA_Sales</th>\n",
              "      <td>-0.400315</td>\n",
              "      <td>-0.091285</td>\n",
              "      <td>1.000000</td>\n",
              "      <td>0.768923</td>\n",
              "      <td>0.451283</td>\n",
              "      <td>0.634518</td>\n",
              "      <td>0.941269</td>\n",
              "    </tr>\n",
              "    <tr>\n",
              "      <th>EU_Sales</th>\n",
              "      <td>-0.379137</td>\n",
              "      <td>0.006108</td>\n",
              "      <td>0.768923</td>\n",
              "      <td>1.000000</td>\n",
              "      <td>0.436379</td>\n",
              "      <td>0.726256</td>\n",
              "      <td>0.903264</td>\n",
              "    </tr>\n",
              "    <tr>\n",
              "      <th>JP_Sales</th>\n",
              "      <td>-0.269323</td>\n",
              "      <td>-0.169387</td>\n",
              "      <td>0.451283</td>\n",
              "      <td>0.436379</td>\n",
              "      <td>1.000000</td>\n",
              "      <td>0.290559</td>\n",
              "      <td>0.612774</td>\n",
              "    </tr>\n",
              "    <tr>\n",
              "      <th>Other_Sales</th>\n",
              "      <td>-0.332735</td>\n",
              "      <td>0.041128</td>\n",
              "      <td>0.634518</td>\n",
              "      <td>0.726256</td>\n",
              "      <td>0.290559</td>\n",
              "      <td>1.000000</td>\n",
              "      <td>0.747964</td>\n",
              "    </tr>\n",
              "    <tr>\n",
              "      <th>Global_Sales</th>\n",
              "      <td>-0.426975</td>\n",
              "      <td>-0.074647</td>\n",
              "      <td>0.941269</td>\n",
              "      <td>0.903264</td>\n",
              "      <td>0.612774</td>\n",
              "      <td>0.747964</td>\n",
              "      <td>1.000000</td>\n",
              "    </tr>\n",
              "  </tbody>\n",
              "</table>\n",
              "</div>\n",
              "      <button class=\"colab-df-convert\" onclick=\"convertToInteractive('df-69f2e1fa-c3a8-4915-8f17-ef84f7d77a0c')\"\n",
              "              title=\"Convert this dataframe to an interactive table.\"\n",
              "              style=\"display:none;\">\n",
              "        \n",
              "  <svg xmlns=\"http://www.w3.org/2000/svg\" height=\"24px\"viewBox=\"0 0 24 24\"\n",
              "       width=\"24px\">\n",
              "    <path d=\"M0 0h24v24H0V0z\" fill=\"none\"/>\n",
              "    <path d=\"M18.56 5.44l.94 2.06.94-2.06 2.06-.94-2.06-.94-.94-2.06-.94 2.06-2.06.94zm-11 1L8.5 8.5l.94-2.06 2.06-.94-2.06-.94L8.5 2.5l-.94 2.06-2.06.94zm10 10l.94 2.06.94-2.06 2.06-.94-2.06-.94-.94-2.06-.94 2.06-2.06.94z\"/><path d=\"M17.41 7.96l-1.37-1.37c-.4-.4-.92-.59-1.43-.59-.52 0-1.04.2-1.43.59L10.3 9.45l-7.72 7.72c-.78.78-.78 2.05 0 2.83L4 21.41c.39.39.9.59 1.41.59.51 0 1.02-.2 1.41-.59l7.78-7.78 2.81-2.81c.8-.78.8-2.07 0-2.86zM5.41 20L4 18.59l7.72-7.72 1.47 1.35L5.41 20z\"/>\n",
              "  </svg>\n",
              "      </button>\n",
              "      \n",
              "  <style>\n",
              "    .colab-df-container {\n",
              "      display:flex;\n",
              "      flex-wrap:wrap;\n",
              "      gap: 12px;\n",
              "    }\n",
              "\n",
              "    .colab-df-convert {\n",
              "      background-color: #E8F0FE;\n",
              "      border: none;\n",
              "      border-radius: 50%;\n",
              "      cursor: pointer;\n",
              "      display: none;\n",
              "      fill: #1967D2;\n",
              "      height: 32px;\n",
              "      padding: 0 0 0 0;\n",
              "      width: 32px;\n",
              "    }\n",
              "\n",
              "    .colab-df-convert:hover {\n",
              "      background-color: #E2EBFA;\n",
              "      box-shadow: 0px 1px 2px rgba(60, 64, 67, 0.3), 0px 1px 3px 1px rgba(60, 64, 67, 0.15);\n",
              "      fill: #174EA6;\n",
              "    }\n",
              "\n",
              "    [theme=dark] .colab-df-convert {\n",
              "      background-color: #3B4455;\n",
              "      fill: #D2E3FC;\n",
              "    }\n",
              "\n",
              "    [theme=dark] .colab-df-convert:hover {\n",
              "      background-color: #434B5C;\n",
              "      box-shadow: 0px 1px 3px 1px rgba(0, 0, 0, 0.15);\n",
              "      filter: drop-shadow(0px 1px 2px rgba(0, 0, 0, 0.3));\n",
              "      fill: #FFFFFF;\n",
              "    }\n",
              "  </style>\n",
              "\n",
              "      <script>\n",
              "        const buttonEl =\n",
              "          document.querySelector('#df-69f2e1fa-c3a8-4915-8f17-ef84f7d77a0c button.colab-df-convert');\n",
              "        buttonEl.style.display =\n",
              "          google.colab.kernel.accessAllowed ? 'block' : 'none';\n",
              "\n",
              "        async function convertToInteractive(key) {\n",
              "          const element = document.querySelector('#df-69f2e1fa-c3a8-4915-8f17-ef84f7d77a0c');\n",
              "          const dataTable =\n",
              "            await google.colab.kernel.invokeFunction('convertToInteractive',\n",
              "                                                     [key], {});\n",
              "          if (!dataTable) return;\n",
              "\n",
              "          const docLinkHtml = 'Like what you see? Visit the ' +\n",
              "            '<a target=\"_blank\" href=https://colab.research.google.com/notebooks/data_table.ipynb>data table notebook</a>'\n",
              "            + ' to learn more about interactive tables.';\n",
              "          element.innerHTML = '';\n",
              "          dataTable['output_type'] = 'display_data';\n",
              "          await google.colab.output.renderOutput(dataTable, element);\n",
              "          const docLink = document.createElement('div');\n",
              "          docLink.innerHTML = docLinkHtml;\n",
              "          element.appendChild(docLink);\n",
              "        }\n",
              "      </script>\n",
              "    </div>\n",
              "  </div>\n",
              "  "
            ],
            "text/plain": [
              "                  Rank      Year  NA_Sales  ...  JP_Sales  Other_Sales  Global_Sales\n",
              "Rank          1.000000  0.178027 -0.400315  ... -0.269323    -0.332735     -0.426975\n",
              "Year          0.178027  1.000000 -0.091285  ... -0.169387     0.041128     -0.074647\n",
              "NA_Sales     -0.400315 -0.091285  1.000000  ...  0.451283     0.634518      0.941269\n",
              "EU_Sales     -0.379137  0.006108  0.768923  ...  0.436379     0.726256      0.903264\n",
              "JP_Sales     -0.269323 -0.169387  0.451283  ...  1.000000     0.290559      0.612774\n",
              "Other_Sales  -0.332735  0.041128  0.634518  ...  0.290559     1.000000      0.747964\n",
              "Global_Sales -0.426975 -0.074647  0.941269  ...  0.612774     0.747964      1.000000\n",
              "\n",
              "[7 rows x 7 columns]"
            ]
          },
          "metadata": {},
          "execution_count": 101
        }
      ]
    },
    {
      "cell_type": "markdown",
      "source": [
        "![Screenshot_365.png](data:image/png;base64,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)\n",
        "\n",
        "As the picutre show: Na_sales, Eu_sales,Other_sales are storng postive correlation. Jp_Sales is modreate postive correlation. And Genre and platform have no correlation with global_sales."
      ],
      "metadata": {
        "id": "IFvCvgP_huM_"
      }
    },
    {
      "cell_type": "markdown",
      "source": [
        "#Section Two: Machine learning (Modeling)"
      ],
      "metadata": {
        "id": "picrogFTh3V8"
      }
    },
    {
      "cell_type": "markdown",
      "source": [
        "####Encoding Genre and Platfrom"
      ],
      "metadata": {
        "id": "KWBl7n6Wv9a8"
      }
    },
    {
      "cell_type": "code",
      "source": [
        "#Save my coulmns that I want to encode\n",
        "feature = [\"Platform\", \"Genre\"]"
      ],
      "metadata": {
        "id": "tk39eaTvif6s"
      },
      "execution_count": null,
      "outputs": []
    },
    {
      "cell_type": "code",
      "source": [
        "#Use the dummies() to encode the two columns from string to numric value\n",
        "#The reason that we used dummies and not label encoder because genre and platfrom are not orgniezed values\n",
        "final_data = pd.get_dummies(videoGames_df,columns=feature,drop_first=True)"
      ],
      "metadata": {
        "id": "rhZ9cvH8ie4g"
      },
      "execution_count": null,
      "outputs": []
    },
    {
      "cell_type": "code",
      "source": [
        "#Check general infromation after the encoding\n",
        "final_data.info()"
      ],
      "metadata": {
        "colab": {
          "base_uri": "https://localhost:8080/"
        },
        "id": "Ea-H92PtirnN",
        "outputId": "491db0d1-dfaf-4c45-a5fd-42758e97c871"
      },
      "execution_count": null,
      "outputs": [
        {
          "output_type": "stream",
          "name": "stdout",
          "text": [
            "<class 'pandas.core.frame.DataFrame'>\n",
            "Int64Index: 16291 entries, 0 to 16597\n",
            "Data columns (total 50 columns):\n",
            " #   Column              Non-Null Count  Dtype  \n",
            "---  ------              --------------  -----  \n",
            " 0   Rank                16291 non-null  int64  \n",
            " 1   Name                16291 non-null  object \n",
            " 2   Year                16291 non-null  float64\n",
            " 3   Publisher           16291 non-null  object \n",
            " 4   NA_Sales            16291 non-null  float64\n",
            " 5   EU_Sales            16291 non-null  float64\n",
            " 6   JP_Sales            16291 non-null  float64\n",
            " 7   Other_Sales         16291 non-null  float64\n",
            " 8   Global_Sales        16291 non-null  float64\n",
            " 9   Platform_3DO        16291 non-null  uint8  \n",
            " 10  Platform_3DS        16291 non-null  uint8  \n",
            " 11  Platform_DC         16291 non-null  uint8  \n",
            " 12  Platform_DS         16291 non-null  uint8  \n",
            " 13  Platform_GB         16291 non-null  uint8  \n",
            " 14  Platform_GBA        16291 non-null  uint8  \n",
            " 15  Platform_GC         16291 non-null  uint8  \n",
            " 16  Platform_GEN        16291 non-null  uint8  \n",
            " 17  Platform_GG         16291 non-null  uint8  \n",
            " 18  Platform_N64        16291 non-null  uint8  \n",
            " 19  Platform_NES        16291 non-null  uint8  \n",
            " 20  Platform_NG         16291 non-null  uint8  \n",
            " 21  Platform_PC         16291 non-null  uint8  \n",
            " 22  Platform_PCFX       16291 non-null  uint8  \n",
            " 23  Platform_PS         16291 non-null  uint8  \n",
            " 24  Platform_PS2        16291 non-null  uint8  \n",
            " 25  Platform_PS3        16291 non-null  uint8  \n",
            " 26  Platform_PS4        16291 non-null  uint8  \n",
            " 27  Platform_PSP        16291 non-null  uint8  \n",
            " 28  Platform_PSV        16291 non-null  uint8  \n",
            " 29  Platform_SAT        16291 non-null  uint8  \n",
            " 30  Platform_SCD        16291 non-null  uint8  \n",
            " 31  Platform_SNES       16291 non-null  uint8  \n",
            " 32  Platform_TG16       16291 non-null  uint8  \n",
            " 33  Platform_WS         16291 non-null  uint8  \n",
            " 34  Platform_Wii        16291 non-null  uint8  \n",
            " 35  Platform_WiiU       16291 non-null  uint8  \n",
            " 36  Platform_X360       16291 non-null  uint8  \n",
            " 37  Platform_XB         16291 non-null  uint8  \n",
            " 38  Platform_XOne       16291 non-null  uint8  \n",
            " 39  Genre_Adventure     16291 non-null  uint8  \n",
            " 40  Genre_Fighting      16291 non-null  uint8  \n",
            " 41  Genre_Misc          16291 non-null  uint8  \n",
            " 42  Genre_Platform      16291 non-null  uint8  \n",
            " 43  Genre_Puzzle        16291 non-null  uint8  \n",
            " 44  Genre_Racing        16291 non-null  uint8  \n",
            " 45  Genre_Role-Playing  16291 non-null  uint8  \n",
            " 46  Genre_Shooter       16291 non-null  uint8  \n",
            " 47  Genre_Simulation    16291 non-null  uint8  \n",
            " 48  Genre_Sports        16291 non-null  uint8  \n",
            " 49  Genre_Strategy      16291 non-null  uint8  \n",
            "dtypes: float64(6), int64(1), object(2), uint8(41)\n",
            "memory usage: 2.5+ MB\n"
          ]
        }
      ]
    },
    {
      "cell_type": "code",
      "source": [
        "final_data.head()"
      ],
      "metadata": {
        "colab": {
          "base_uri": "https://localhost:8080/",
          "height": 357
        },
        "id": "37iy8FGSjKoL",
        "outputId": "b4dedcfe-383c-402d-9fbf-7663b8713a93"
      },
      "execution_count": null,
      "outputs": [
        {
          "output_type": "execute_result",
          "data": {
            "text/html": [
              "\n",
              "  <div id=\"df-dc62d098-0985-4253-9f3b-703108b7918d\">\n",
              "    <div class=\"colab-df-container\">\n",
              "      <div>\n",
              "<style scoped>\n",
              "    .dataframe tbody tr th:only-of-type {\n",
              "        vertical-align: middle;\n",
              "    }\n",
              "\n",
              "    .dataframe tbody tr th {\n",
              "        vertical-align: top;\n",
              "    }\n",
              "\n",
              "    .dataframe thead th {\n",
              "        text-align: right;\n",
              "    }\n",
              "</style>\n",
              "<table border=\"1\" class=\"dataframe\">\n",
              "  <thead>\n",
              "    <tr style=\"text-align: right;\">\n",
              "      <th></th>\n",
              "      <th>Rank</th>\n",
              "      <th>Name</th>\n",
              "      <th>Year</th>\n",
              "      <th>Publisher</th>\n",
              "      <th>NA_Sales</th>\n",
              "      <th>EU_Sales</th>\n",
              "      <th>JP_Sales</th>\n",
              "      <th>Other_Sales</th>\n",
              "      <th>Global_Sales</th>\n",
              "      <th>Platform_3DO</th>\n",
              "      <th>Platform_3DS</th>\n",
              "      <th>Platform_DC</th>\n",
              "      <th>Platform_DS</th>\n",
              "      <th>Platform_GB</th>\n",
              "      <th>Platform_GBA</th>\n",
              "      <th>Platform_GC</th>\n",
              "      <th>Platform_GEN</th>\n",
              "      <th>Platform_GG</th>\n",
              "      <th>Platform_N64</th>\n",
              "      <th>Platform_NES</th>\n",
              "      <th>Platform_NG</th>\n",
              "      <th>Platform_PC</th>\n",
              "      <th>Platform_PCFX</th>\n",
              "      <th>Platform_PS</th>\n",
              "      <th>Platform_PS2</th>\n",
              "      <th>Platform_PS3</th>\n",
              "      <th>Platform_PS4</th>\n",
              "      <th>Platform_PSP</th>\n",
              "      <th>Platform_PSV</th>\n",
              "      <th>Platform_SAT</th>\n",
              "      <th>Platform_SCD</th>\n",
              "      <th>Platform_SNES</th>\n",
              "      <th>Platform_TG16</th>\n",
              "      <th>Platform_WS</th>\n",
              "      <th>Platform_Wii</th>\n",
              "      <th>Platform_WiiU</th>\n",
              "      <th>Platform_X360</th>\n",
              "      <th>Platform_XB</th>\n",
              "      <th>Platform_XOne</th>\n",
              "      <th>Genre_Adventure</th>\n",
              "      <th>Genre_Fighting</th>\n",
              "      <th>Genre_Misc</th>\n",
              "      <th>Genre_Platform</th>\n",
              "      <th>Genre_Puzzle</th>\n",
              "      <th>Genre_Racing</th>\n",
              "      <th>Genre_Role-Playing</th>\n",
              "      <th>Genre_Shooter</th>\n",
              "      <th>Genre_Simulation</th>\n",
              "      <th>Genre_Sports</th>\n",
              "      <th>Genre_Strategy</th>\n",
              "    </tr>\n",
              "  </thead>\n",
              "  <tbody>\n",
              "    <tr>\n",
              "      <th>0</th>\n",
              "      <td>1</td>\n",
              "      <td>Wii Sports</td>\n",
              "      <td>2006.0</td>\n",
              "      <td>Nintendo</td>\n",
              "      <td>41.49</td>\n",
              "      <td>29.02</td>\n",
              "      <td>3.77</td>\n",
              "      <td>8.46</td>\n",
              "      <td>82.74</td>\n",
              "      <td>0</td>\n",
              "      <td>0</td>\n",
              "      <td>0</td>\n",
              "      <td>0</td>\n",
              "      <td>0</td>\n",
              "      <td>0</td>\n",
              "      <td>0</td>\n",
              "      <td>0</td>\n",
              "      <td>0</td>\n",
              "      <td>0</td>\n",
              "      <td>0</td>\n",
              "      <td>0</td>\n",
              "      <td>0</td>\n",
              "      <td>0</td>\n",
              "      <td>0</td>\n",
              "      <td>0</td>\n",
              "      <td>0</td>\n",
              "      <td>0</td>\n",
              "      <td>0</td>\n",
              "      <td>0</td>\n",
              "      <td>0</td>\n",
              "      <td>0</td>\n",
              "      <td>0</td>\n",
              "      <td>0</td>\n",
              "      <td>0</td>\n",
              "      <td>1</td>\n",
              "      <td>0</td>\n",
              "      <td>0</td>\n",
              "      <td>0</td>\n",
              "      <td>0</td>\n",
              "      <td>0</td>\n",
              "      <td>0</td>\n",
              "      <td>0</td>\n",
              "      <td>0</td>\n",
              "      <td>0</td>\n",
              "      <td>0</td>\n",
              "      <td>0</td>\n",
              "      <td>0</td>\n",
              "      <td>0</td>\n",
              "      <td>1</td>\n",
              "      <td>0</td>\n",
              "    </tr>\n",
              "    <tr>\n",
              "      <th>1</th>\n",
              "      <td>2</td>\n",
              "      <td>Super Mario Bros.</td>\n",
              "      <td>1985.0</td>\n",
              "      <td>Nintendo</td>\n",
              "      <td>29.08</td>\n",
              "      <td>3.58</td>\n",
              "      <td>6.81</td>\n",
              "      <td>0.77</td>\n",
              "      <td>40.24</td>\n",
              "      <td>0</td>\n",
              "      <td>0</td>\n",
              "      <td>0</td>\n",
              "      <td>0</td>\n",
              "      <td>0</td>\n",
              "      <td>0</td>\n",
              "      <td>0</td>\n",
              "      <td>0</td>\n",
              "      <td>0</td>\n",
              "      <td>0</td>\n",
              "      <td>1</td>\n",
              "      <td>0</td>\n",
              "      <td>0</td>\n",
              "      <td>0</td>\n",
              "      <td>0</td>\n",
              "      <td>0</td>\n",
              "      <td>0</td>\n",
              "      <td>0</td>\n",
              "      <td>0</td>\n",
              "      <td>0</td>\n",
              "      <td>0</td>\n",
              "      <td>0</td>\n",
              "      <td>0</td>\n",
              "      <td>0</td>\n",
              "      <td>0</td>\n",
              "      <td>0</td>\n",
              "      <td>0</td>\n",
              "      <td>0</td>\n",
              "      <td>0</td>\n",
              "      <td>0</td>\n",
              "      <td>0</td>\n",
              "      <td>0</td>\n",
              "      <td>0</td>\n",
              "      <td>1</td>\n",
              "      <td>0</td>\n",
              "      <td>0</td>\n",
              "      <td>0</td>\n",
              "      <td>0</td>\n",
              "      <td>0</td>\n",
              "      <td>0</td>\n",
              "      <td>0</td>\n",
              "    </tr>\n",
              "    <tr>\n",
              "      <th>2</th>\n",
              "      <td>3</td>\n",
              "      <td>Mario Kart Wii</td>\n",
              "      <td>2008.0</td>\n",
              "      <td>Nintendo</td>\n",
              "      <td>15.85</td>\n",
              "      <td>12.88</td>\n",
              "      <td>3.79</td>\n",
              "      <td>3.31</td>\n",
              "      <td>35.82</td>\n",
              "      <td>0</td>\n",
              "      <td>0</td>\n",
              "      <td>0</td>\n",
              "      <td>0</td>\n",
              "      <td>0</td>\n",
              "      <td>0</td>\n",
              "      <td>0</td>\n",
              "      <td>0</td>\n",
              "      <td>0</td>\n",
              "      <td>0</td>\n",
              "      <td>0</td>\n",
              "      <td>0</td>\n",
              "      <td>0</td>\n",
              "      <td>0</td>\n",
              "      <td>0</td>\n",
              "      <td>0</td>\n",
              "      <td>0</td>\n",
              "      <td>0</td>\n",
              "      <td>0</td>\n",
              "      <td>0</td>\n",
              "      <td>0</td>\n",
              "      <td>0</td>\n",
              "      <td>0</td>\n",
              "      <td>0</td>\n",
              "      <td>0</td>\n",
              "      <td>1</td>\n",
              "      <td>0</td>\n",
              "      <td>0</td>\n",
              "      <td>0</td>\n",
              "      <td>0</td>\n",
              "      <td>0</td>\n",
              "      <td>0</td>\n",
              "      <td>0</td>\n",
              "      <td>0</td>\n",
              "      <td>0</td>\n",
              "      <td>1</td>\n",
              "      <td>0</td>\n",
              "      <td>0</td>\n",
              "      <td>0</td>\n",
              "      <td>0</td>\n",
              "      <td>0</td>\n",
              "    </tr>\n",
              "    <tr>\n",
              "      <th>3</th>\n",
              "      <td>4</td>\n",
              "      <td>Wii Sports Resort</td>\n",
              "      <td>2009.0</td>\n",
              "      <td>Nintendo</td>\n",
              "      <td>15.75</td>\n",
              "      <td>11.01</td>\n",
              "      <td>3.28</td>\n",
              "      <td>2.96</td>\n",
              "      <td>33.00</td>\n",
              "      <td>0</td>\n",
              "      <td>0</td>\n",
              "      <td>0</td>\n",
              "      <td>0</td>\n",
              "      <td>0</td>\n",
              "      <td>0</td>\n",
              "      <td>0</td>\n",
              "      <td>0</td>\n",
              "      <td>0</td>\n",
              "      <td>0</td>\n",
              "      <td>0</td>\n",
              "      <td>0</td>\n",
              "      <td>0</td>\n",
              "      <td>0</td>\n",
              "      <td>0</td>\n",
              "      <td>0</td>\n",
              "      <td>0</td>\n",
              "      <td>0</td>\n",
              "      <td>0</td>\n",
              "      <td>0</td>\n",
              "      <td>0</td>\n",
              "      <td>0</td>\n",
              "      <td>0</td>\n",
              "      <td>0</td>\n",
              "      <td>0</td>\n",
              "      <td>1</td>\n",
              "      <td>0</td>\n",
              "      <td>0</td>\n",
              "      <td>0</td>\n",
              "      <td>0</td>\n",
              "      <td>0</td>\n",
              "      <td>0</td>\n",
              "      <td>0</td>\n",
              "      <td>0</td>\n",
              "      <td>0</td>\n",
              "      <td>0</td>\n",
              "      <td>0</td>\n",
              "      <td>0</td>\n",
              "      <td>0</td>\n",
              "      <td>1</td>\n",
              "      <td>0</td>\n",
              "    </tr>\n",
              "    <tr>\n",
              "      <th>4</th>\n",
              "      <td>5</td>\n",
              "      <td>Pokemon Red/Pokemon Blue</td>\n",
              "      <td>1996.0</td>\n",
              "      <td>Nintendo</td>\n",
              "      <td>11.27</td>\n",
              "      <td>8.89</td>\n",
              "      <td>10.22</td>\n",
              "      <td>1.00</td>\n",
              "      <td>31.37</td>\n",
              "      <td>0</td>\n",
              "      <td>0</td>\n",
              "      <td>0</td>\n",
              "      <td>0</td>\n",
              "      <td>1</td>\n",
              "      <td>0</td>\n",
              "      <td>0</td>\n",
              "      <td>0</td>\n",
              "      <td>0</td>\n",
              "      <td>0</td>\n",
              "      <td>0</td>\n",
              "      <td>0</td>\n",
              "      <td>0</td>\n",
              "      <td>0</td>\n",
              "      <td>0</td>\n",
              "      <td>0</td>\n",
              "      <td>0</td>\n",
              "      <td>0</td>\n",
              "      <td>0</td>\n",
              "      <td>0</td>\n",
              "      <td>0</td>\n",
              "      <td>0</td>\n",
              "      <td>0</td>\n",
              "      <td>0</td>\n",
              "      <td>0</td>\n",
              "      <td>0</td>\n",
              "      <td>0</td>\n",
              "      <td>0</td>\n",
              "      <td>0</td>\n",
              "      <td>0</td>\n",
              "      <td>0</td>\n",
              "      <td>0</td>\n",
              "      <td>0</td>\n",
              "      <td>0</td>\n",
              "      <td>0</td>\n",
              "      <td>0</td>\n",
              "      <td>1</td>\n",
              "      <td>0</td>\n",
              "      <td>0</td>\n",
              "      <td>0</td>\n",
              "      <td>0</td>\n",
              "    </tr>\n",
              "  </tbody>\n",
              "</table>\n",
              "</div>\n",
              "      <button class=\"colab-df-convert\" onclick=\"convertToInteractive('df-dc62d098-0985-4253-9f3b-703108b7918d')\"\n",
              "              title=\"Convert this dataframe to an interactive table.\"\n",
              "              style=\"display:none;\">\n",
              "        \n",
              "  <svg xmlns=\"http://www.w3.org/2000/svg\" height=\"24px\"viewBox=\"0 0 24 24\"\n",
              "       width=\"24px\">\n",
              "    <path d=\"M0 0h24v24H0V0z\" fill=\"none\"/>\n",
              "    <path d=\"M18.56 5.44l.94 2.06.94-2.06 2.06-.94-2.06-.94-.94-2.06-.94 2.06-2.06.94zm-11 1L8.5 8.5l.94-2.06 2.06-.94-2.06-.94L8.5 2.5l-.94 2.06-2.06.94zm10 10l.94 2.06.94-2.06 2.06-.94-2.06-.94-.94-2.06-.94 2.06-2.06.94z\"/><path d=\"M17.41 7.96l-1.37-1.37c-.4-.4-.92-.59-1.43-.59-.52 0-1.04.2-1.43.59L10.3 9.45l-7.72 7.72c-.78.78-.78 2.05 0 2.83L4 21.41c.39.39.9.59 1.41.59.51 0 1.02-.2 1.41-.59l7.78-7.78 2.81-2.81c.8-.78.8-2.07 0-2.86zM5.41 20L4 18.59l7.72-7.72 1.47 1.35L5.41 20z\"/>\n",
              "  </svg>\n",
              "      </button>\n",
              "      \n",
              "  <style>\n",
              "    .colab-df-container {\n",
              "      display:flex;\n",
              "      flex-wrap:wrap;\n",
              "      gap: 12px;\n",
              "    }\n",
              "\n",
              "    .colab-df-convert {\n",
              "      background-color: #E8F0FE;\n",
              "      border: none;\n",
              "      border-radius: 50%;\n",
              "      cursor: pointer;\n",
              "      display: none;\n",
              "      fill: #1967D2;\n",
              "      height: 32px;\n",
              "      padding: 0 0 0 0;\n",
              "      width: 32px;\n",
              "    }\n",
              "\n",
              "    .colab-df-convert:hover {\n",
              "      background-color: #E2EBFA;\n",
              "      box-shadow: 0px 1px 2px rgba(60, 64, 67, 0.3), 0px 1px 3px 1px rgba(60, 64, 67, 0.15);\n",
              "      fill: #174EA6;\n",
              "    }\n",
              "\n",
              "    [theme=dark] .colab-df-convert {\n",
              "      background-color: #3B4455;\n",
              "      fill: #D2E3FC;\n",
              "    }\n",
              "\n",
              "    [theme=dark] .colab-df-convert:hover {\n",
              "      background-color: #434B5C;\n",
              "      box-shadow: 0px 1px 3px 1px rgba(0, 0, 0, 0.15);\n",
              "      filter: drop-shadow(0px 1px 2px rgba(0, 0, 0, 0.3));\n",
              "      fill: #FFFFFF;\n",
              "    }\n",
              "  </style>\n",
              "\n",
              "      <script>\n",
              "        const buttonEl =\n",
              "          document.querySelector('#df-dc62d098-0985-4253-9f3b-703108b7918d button.colab-df-convert');\n",
              "        buttonEl.style.display =\n",
              "          google.colab.kernel.accessAllowed ? 'block' : 'none';\n",
              "\n",
              "        async function convertToInteractive(key) {\n",
              "          const element = document.querySelector('#df-dc62d098-0985-4253-9f3b-703108b7918d');\n",
              "          const dataTable =\n",
              "            await google.colab.kernel.invokeFunction('convertToInteractive',\n",
              "                                                     [key], {});\n",
              "          if (!dataTable) return;\n",
              "\n",
              "          const docLinkHtml = 'Like what you see? Visit the ' +\n",
              "            '<a target=\"_blank\" href=https://colab.research.google.com/notebooks/data_table.ipynb>data table notebook</a>'\n",
              "            + ' to learn more about interactive tables.';\n",
              "          element.innerHTML = '';\n",
              "          dataTable['output_type'] = 'display_data';\n",
              "          await google.colab.output.renderOutput(dataTable, element);\n",
              "          const docLink = document.createElement('div');\n",
              "          docLink.innerHTML = docLinkHtml;\n",
              "          element.appendChild(docLink);\n",
              "        }\n",
              "      </script>\n",
              "    </div>\n",
              "  </div>\n",
              "  "
            ],
            "text/plain": [
              "   Rank                      Name  ...  Genre_Sports Genre_Strategy\n",
              "0     1                Wii Sports  ...             1              0\n",
              "1     2         Super Mario Bros.  ...             0              0\n",
              "2     3            Mario Kart Wii  ...             0              0\n",
              "3     4         Wii Sports Resort  ...             1              0\n",
              "4     5  Pokemon Red/Pokemon Blue  ...             0              0\n",
              "\n",
              "[5 rows x 50 columns]"
            ]
          },
          "metadata": {},
          "execution_count": 105
        }
      ]
    },
    {
      "cell_type": "markdown",
      "source": [
        "####Split the train and test"
      ],
      "metadata": {
        "id": "pkcYmWpi8ERF"
      }
    },
    {
      "cell_type": "code",
      "source": [
        "#Defin X and y\n",
        "X = final_data.drop(['Rank','Year','Publisher','Name','Global_Sales'],axis=1)\n",
        "y = final_data['Global_Sales']\n",
        "#X\n",
        "#y"
      ],
      "metadata": {
        "id": "kmpgCL738gf5"
      },
      "execution_count": null,
      "outputs": []
    },
    {
      "cell_type": "code",
      "source": [
        "X_train, X_test, y_train, y_test = train_test_split(X, y,test_size = 0.2, random_state=42)\n",
        "#X_train"
      ],
      "metadata": {
        "colab": {
          "base_uri": "https://localhost:8080/",
          "height": 505
        },
        "id": "ZuKuOh8u67rl",
        "outputId": "f97210f5-ba15-4156-e1bb-09e962257040"
      },
      "execution_count": null,
      "outputs": [
        {
          "output_type": "execute_result",
          "data": {
            "text/html": [
              "\n",
              "  <div id=\"df-a9ad371f-7d93-4d56-bd94-f7be1b908846\">\n",
              "    <div class=\"colab-df-container\">\n",
              "      <div>\n",
              "<style scoped>\n",
              "    .dataframe tbody tr th:only-of-type {\n",
              "        vertical-align: middle;\n",
              "    }\n",
              "\n",
              "    .dataframe tbody tr th {\n",
              "        vertical-align: top;\n",
              "    }\n",
              "\n",
              "    .dataframe thead th {\n",
              "        text-align: right;\n",
              "    }\n",
              "</style>\n",
              "<table border=\"1\" class=\"dataframe\">\n",
              "  <thead>\n",
              "    <tr style=\"text-align: right;\">\n",
              "      <th></th>\n",
              "      <th>NA_Sales</th>\n",
              "      <th>EU_Sales</th>\n",
              "      <th>JP_Sales</th>\n",
              "      <th>Other_Sales</th>\n",
              "      <th>Platform_3DO</th>\n",
              "      <th>Platform_3DS</th>\n",
              "      <th>Platform_DC</th>\n",
              "      <th>Platform_DS</th>\n",
              "      <th>Platform_GB</th>\n",
              "      <th>Platform_GBA</th>\n",
              "      <th>Platform_GC</th>\n",
              "      <th>Platform_GEN</th>\n",
              "      <th>Platform_GG</th>\n",
              "      <th>Platform_N64</th>\n",
              "      <th>Platform_NES</th>\n",
              "      <th>Platform_NG</th>\n",
              "      <th>Platform_PC</th>\n",
              "      <th>Platform_PCFX</th>\n",
              "      <th>Platform_PS</th>\n",
              "      <th>Platform_PS2</th>\n",
              "      <th>Platform_PS3</th>\n",
              "      <th>Platform_PS4</th>\n",
              "      <th>Platform_PSP</th>\n",
              "      <th>Platform_PSV</th>\n",
              "      <th>Platform_SAT</th>\n",
              "      <th>Platform_SCD</th>\n",
              "      <th>Platform_SNES</th>\n",
              "      <th>Platform_TG16</th>\n",
              "      <th>Platform_WS</th>\n",
              "      <th>Platform_Wii</th>\n",
              "      <th>Platform_WiiU</th>\n",
              "      <th>Platform_X360</th>\n",
              "      <th>Platform_XB</th>\n",
              "      <th>Platform_XOne</th>\n",
              "      <th>Genre_Adventure</th>\n",
              "      <th>Genre_Fighting</th>\n",
              "      <th>Genre_Misc</th>\n",
              "      <th>Genre_Platform</th>\n",
              "      <th>Genre_Puzzle</th>\n",
              "      <th>Genre_Racing</th>\n",
              "      <th>Genre_Role-Playing</th>\n",
              "      <th>Genre_Shooter</th>\n",
              "      <th>Genre_Simulation</th>\n",
              "      <th>Genre_Sports</th>\n",
              "      <th>Genre_Strategy</th>\n",
              "    </tr>\n",
              "  </thead>\n",
              "  <tbody>\n",
              "    <tr>\n",
              "      <th>1688</th>\n",
              "      <td>0.45</td>\n",
              "      <td>0.47</td>\n",
              "      <td>0.00</td>\n",
              "      <td>0.28</td>\n",
              "      <td>0</td>\n",
              "      <td>0</td>\n",
              "      <td>0</td>\n",
              "      <td>0</td>\n",
              "      <td>0</td>\n",
              "      <td>0</td>\n",
              "      <td>0</td>\n",
              "      <td>0</td>\n",
              "      <td>0</td>\n",
              "      <td>0</td>\n",
              "      <td>0</td>\n",
              "      <td>0</td>\n",
              "      <td>0</td>\n",
              "      <td>0</td>\n",
              "      <td>0</td>\n",
              "      <td>0</td>\n",
              "      <td>0</td>\n",
              "      <td>0</td>\n",
              "      <td>1</td>\n",
              "      <td>0</td>\n",
              "      <td>0</td>\n",
              "      <td>0</td>\n",
              "      <td>0</td>\n",
              "      <td>0</td>\n",
              "      <td>0</td>\n",
              "      <td>0</td>\n",
              "      <td>0</td>\n",
              "      <td>0</td>\n",
              "      <td>0</td>\n",
              "      <td>0</td>\n",
              "      <td>0</td>\n",
              "      <td>1</td>\n",
              "      <td>0</td>\n",
              "      <td>0</td>\n",
              "      <td>0</td>\n",
              "      <td>0</td>\n",
              "      <td>0</td>\n",
              "      <td>0</td>\n",
              "      <td>0</td>\n",
              "      <td>0</td>\n",
              "      <td>0</td>\n",
              "    </tr>\n",
              "    <tr>\n",
              "      <th>661</th>\n",
              "      <td>1.46</td>\n",
              "      <td>0.54</td>\n",
              "      <td>0.01</td>\n",
              "      <td>0.37</td>\n",
              "      <td>0</td>\n",
              "      <td>0</td>\n",
              "      <td>0</td>\n",
              "      <td>0</td>\n",
              "      <td>0</td>\n",
              "      <td>0</td>\n",
              "      <td>0</td>\n",
              "      <td>0</td>\n",
              "      <td>0</td>\n",
              "      <td>0</td>\n",
              "      <td>0</td>\n",
              "      <td>0</td>\n",
              "      <td>0</td>\n",
              "      <td>0</td>\n",
              "      <td>0</td>\n",
              "      <td>0</td>\n",
              "      <td>0</td>\n",
              "      <td>1</td>\n",
              "      <td>0</td>\n",
              "      <td>0</td>\n",
              "      <td>0</td>\n",
              "      <td>0</td>\n",
              "      <td>0</td>\n",
              "      <td>0</td>\n",
              "      <td>0</td>\n",
              "      <td>0</td>\n",
              "      <td>0</td>\n",
              "      <td>0</td>\n",
              "      <td>0</td>\n",
              "      <td>0</td>\n",
              "      <td>0</td>\n",
              "      <td>0</td>\n",
              "      <td>0</td>\n",
              "      <td>0</td>\n",
              "      <td>0</td>\n",
              "      <td>0</td>\n",
              "      <td>0</td>\n",
              "      <td>0</td>\n",
              "      <td>0</td>\n",
              "      <td>1</td>\n",
              "      <td>0</td>\n",
              "    </tr>\n",
              "    <tr>\n",
              "      <th>3758</th>\n",
              "      <td>0.26</td>\n",
              "      <td>0.20</td>\n",
              "      <td>0.00</td>\n",
              "      <td>0.07</td>\n",
              "      <td>0</td>\n",
              "      <td>0</td>\n",
              "      <td>0</td>\n",
              "      <td>0</td>\n",
              "      <td>0</td>\n",
              "      <td>0</td>\n",
              "      <td>0</td>\n",
              "      <td>0</td>\n",
              "      <td>0</td>\n",
              "      <td>0</td>\n",
              "      <td>0</td>\n",
              "      <td>0</td>\n",
              "      <td>0</td>\n",
              "      <td>0</td>\n",
              "      <td>0</td>\n",
              "      <td>1</td>\n",
              "      <td>0</td>\n",
              "      <td>0</td>\n",
              "      <td>0</td>\n",
              "      <td>0</td>\n",
              "      <td>0</td>\n",
              "      <td>0</td>\n",
              "      <td>0</td>\n",
              "      <td>0</td>\n",
              "      <td>0</td>\n",
              "      <td>0</td>\n",
              "      <td>0</td>\n",
              "      <td>0</td>\n",
              "      <td>0</td>\n",
              "      <td>0</td>\n",
              "      <td>0</td>\n",
              "      <td>0</td>\n",
              "      <td>0</td>\n",
              "      <td>0</td>\n",
              "      <td>0</td>\n",
              "      <td>0</td>\n",
              "      <td>0</td>\n",
              "      <td>1</td>\n",
              "      <td>0</td>\n",
              "      <td>0</td>\n",
              "      <td>0</td>\n",
              "    </tr>\n",
              "    <tr>\n",
              "      <th>12416</th>\n",
              "      <td>0.00</td>\n",
              "      <td>0.05</td>\n",
              "      <td>0.00</td>\n",
              "      <td>0.01</td>\n",
              "      <td>0</td>\n",
              "      <td>0</td>\n",
              "      <td>0</td>\n",
              "      <td>0</td>\n",
              "      <td>0</td>\n",
              "      <td>0</td>\n",
              "      <td>0</td>\n",
              "      <td>0</td>\n",
              "      <td>0</td>\n",
              "      <td>0</td>\n",
              "      <td>0</td>\n",
              "      <td>0</td>\n",
              "      <td>0</td>\n",
              "      <td>0</td>\n",
              "      <td>0</td>\n",
              "      <td>0</td>\n",
              "      <td>0</td>\n",
              "      <td>0</td>\n",
              "      <td>0</td>\n",
              "      <td>0</td>\n",
              "      <td>0</td>\n",
              "      <td>0</td>\n",
              "      <td>0</td>\n",
              "      <td>0</td>\n",
              "      <td>0</td>\n",
              "      <td>0</td>\n",
              "      <td>0</td>\n",
              "      <td>1</td>\n",
              "      <td>0</td>\n",
              "      <td>0</td>\n",
              "      <td>0</td>\n",
              "      <td>0</td>\n",
              "      <td>0</td>\n",
              "      <td>0</td>\n",
              "      <td>0</td>\n",
              "      <td>1</td>\n",
              "      <td>0</td>\n",
              "      <td>0</td>\n",
              "      <td>0</td>\n",
              "      <td>0</td>\n",
              "      <td>0</td>\n",
              "    </tr>\n",
              "    <tr>\n",
              "      <th>7350</th>\n",
              "      <td>0.15</td>\n",
              "      <td>0.06</td>\n",
              "      <td>0.00</td>\n",
              "      <td>0.00</td>\n",
              "      <td>0</td>\n",
              "      <td>0</td>\n",
              "      <td>0</td>\n",
              "      <td>0</td>\n",
              "      <td>0</td>\n",
              "      <td>1</td>\n",
              "      <td>0</td>\n",
              "      <td>0</td>\n",
              "      <td>0</td>\n",
              "      <td>0</td>\n",
              "      <td>0</td>\n",
              "      <td>0</td>\n",
              "      <td>0</td>\n",
              "      <td>0</td>\n",
              "      <td>0</td>\n",
              "      <td>0</td>\n",
              "      <td>0</td>\n",
              "      <td>0</td>\n",
              "      <td>0</td>\n",
              "      <td>0</td>\n",
              "      <td>0</td>\n",
              "      <td>0</td>\n",
              "      <td>0</td>\n",
              "      <td>0</td>\n",
              "      <td>0</td>\n",
              "      <td>0</td>\n",
              "      <td>0</td>\n",
              "      <td>0</td>\n",
              "      <td>0</td>\n",
              "      <td>0</td>\n",
              "      <td>0</td>\n",
              "      <td>0</td>\n",
              "      <td>0</td>\n",
              "      <td>0</td>\n",
              "      <td>0</td>\n",
              "      <td>0</td>\n",
              "      <td>0</td>\n",
              "      <td>1</td>\n",
              "      <td>0</td>\n",
              "      <td>0</td>\n",
              "      <td>0</td>\n",
              "    </tr>\n",
              "    <tr>\n",
              "      <th>...</th>\n",
              "      <td>...</td>\n",
              "      <td>...</td>\n",
              "      <td>...</td>\n",
              "      <td>...</td>\n",
              "      <td>...</td>\n",
              "      <td>...</td>\n",
              "      <td>...</td>\n",
              "      <td>...</td>\n",
              "      <td>...</td>\n",
              "      <td>...</td>\n",
              "      <td>...</td>\n",
              "      <td>...</td>\n",
              "      <td>...</td>\n",
              "      <td>...</td>\n",
              "      <td>...</td>\n",
              "      <td>...</td>\n",
              "      <td>...</td>\n",
              "      <td>...</td>\n",
              "      <td>...</td>\n",
              "      <td>...</td>\n",
              "      <td>...</td>\n",
              "      <td>...</td>\n",
              "      <td>...</td>\n",
              "      <td>...</td>\n",
              "      <td>...</td>\n",
              "      <td>...</td>\n",
              "      <td>...</td>\n",
              "      <td>...</td>\n",
              "      <td>...</td>\n",
              "      <td>...</td>\n",
              "      <td>...</td>\n",
              "      <td>...</td>\n",
              "      <td>...</td>\n",
              "      <td>...</td>\n",
              "      <td>...</td>\n",
              "      <td>...</td>\n",
              "      <td>...</td>\n",
              "      <td>...</td>\n",
              "      <td>...</td>\n",
              "      <td>...</td>\n",
              "      <td>...</td>\n",
              "      <td>...</td>\n",
              "      <td>...</td>\n",
              "      <td>...</td>\n",
              "      <td>...</td>\n",
              "    </tr>\n",
              "    <tr>\n",
              "      <th>13655</th>\n",
              "      <td>0.00</td>\n",
              "      <td>0.00</td>\n",
              "      <td>0.04</td>\n",
              "      <td>0.00</td>\n",
              "      <td>0</td>\n",
              "      <td>0</td>\n",
              "      <td>0</td>\n",
              "      <td>0</td>\n",
              "      <td>0</td>\n",
              "      <td>0</td>\n",
              "      <td>0</td>\n",
              "      <td>0</td>\n",
              "      <td>0</td>\n",
              "      <td>0</td>\n",
              "      <td>0</td>\n",
              "      <td>0</td>\n",
              "      <td>0</td>\n",
              "      <td>0</td>\n",
              "      <td>0</td>\n",
              "      <td>0</td>\n",
              "      <td>0</td>\n",
              "      <td>0</td>\n",
              "      <td>1</td>\n",
              "      <td>0</td>\n",
              "      <td>0</td>\n",
              "      <td>0</td>\n",
              "      <td>0</td>\n",
              "      <td>0</td>\n",
              "      <td>0</td>\n",
              "      <td>0</td>\n",
              "      <td>0</td>\n",
              "      <td>0</td>\n",
              "      <td>0</td>\n",
              "      <td>0</td>\n",
              "      <td>0</td>\n",
              "      <td>0</td>\n",
              "      <td>0</td>\n",
              "      <td>0</td>\n",
              "      <td>0</td>\n",
              "      <td>0</td>\n",
              "      <td>1</td>\n",
              "      <td>0</td>\n",
              "      <td>0</td>\n",
              "      <td>0</td>\n",
              "      <td>0</td>\n",
              "    </tr>\n",
              "    <tr>\n",
              "      <th>5474</th>\n",
              "      <td>0.25</td>\n",
              "      <td>0.07</td>\n",
              "      <td>0.00</td>\n",
              "      <td>0.01</td>\n",
              "      <td>0</td>\n",
              "      <td>0</td>\n",
              "      <td>0</td>\n",
              "      <td>0</td>\n",
              "      <td>0</td>\n",
              "      <td>0</td>\n",
              "      <td>0</td>\n",
              "      <td>0</td>\n",
              "      <td>0</td>\n",
              "      <td>0</td>\n",
              "      <td>0</td>\n",
              "      <td>0</td>\n",
              "      <td>0</td>\n",
              "      <td>0</td>\n",
              "      <td>0</td>\n",
              "      <td>0</td>\n",
              "      <td>0</td>\n",
              "      <td>0</td>\n",
              "      <td>0</td>\n",
              "      <td>0</td>\n",
              "      <td>0</td>\n",
              "      <td>0</td>\n",
              "      <td>0</td>\n",
              "      <td>0</td>\n",
              "      <td>0</td>\n",
              "      <td>0</td>\n",
              "      <td>0</td>\n",
              "      <td>0</td>\n",
              "      <td>1</td>\n",
              "      <td>0</td>\n",
              "      <td>0</td>\n",
              "      <td>0</td>\n",
              "      <td>0</td>\n",
              "      <td>0</td>\n",
              "      <td>0</td>\n",
              "      <td>0</td>\n",
              "      <td>0</td>\n",
              "      <td>1</td>\n",
              "      <td>0</td>\n",
              "      <td>0</td>\n",
              "      <td>0</td>\n",
              "    </tr>\n",
              "    <tr>\n",
              "      <th>870</th>\n",
              "      <td>1.09</td>\n",
              "      <td>0.65</td>\n",
              "      <td>0.02</td>\n",
              "      <td>0.20</td>\n",
              "      <td>0</td>\n",
              "      <td>0</td>\n",
              "      <td>0</td>\n",
              "      <td>0</td>\n",
              "      <td>0</td>\n",
              "      <td>0</td>\n",
              "      <td>0</td>\n",
              "      <td>0</td>\n",
              "      <td>0</td>\n",
              "      <td>0</td>\n",
              "      <td>0</td>\n",
              "      <td>0</td>\n",
              "      <td>0</td>\n",
              "      <td>0</td>\n",
              "      <td>0</td>\n",
              "      <td>0</td>\n",
              "      <td>0</td>\n",
              "      <td>0</td>\n",
              "      <td>0</td>\n",
              "      <td>0</td>\n",
              "      <td>0</td>\n",
              "      <td>0</td>\n",
              "      <td>0</td>\n",
              "      <td>0</td>\n",
              "      <td>0</td>\n",
              "      <td>0</td>\n",
              "      <td>0</td>\n",
              "      <td>1</td>\n",
              "      <td>0</td>\n",
              "      <td>0</td>\n",
              "      <td>0</td>\n",
              "      <td>0</td>\n",
              "      <td>0</td>\n",
              "      <td>0</td>\n",
              "      <td>0</td>\n",
              "      <td>0</td>\n",
              "      <td>0</td>\n",
              "      <td>1</td>\n",
              "      <td>0</td>\n",
              "      <td>0</td>\n",
              "      <td>0</td>\n",
              "    </tr>\n",
              "    <tr>\n",
              "      <th>16087</th>\n",
              "      <td>0.00</td>\n",
              "      <td>0.00</td>\n",
              "      <td>0.01</td>\n",
              "      <td>0.00</td>\n",
              "      <td>0</td>\n",
              "      <td>0</td>\n",
              "      <td>0</td>\n",
              "      <td>0</td>\n",
              "      <td>0</td>\n",
              "      <td>0</td>\n",
              "      <td>0</td>\n",
              "      <td>0</td>\n",
              "      <td>0</td>\n",
              "      <td>0</td>\n",
              "      <td>0</td>\n",
              "      <td>0</td>\n",
              "      <td>0</td>\n",
              "      <td>0</td>\n",
              "      <td>0</td>\n",
              "      <td>0</td>\n",
              "      <td>0</td>\n",
              "      <td>0</td>\n",
              "      <td>0</td>\n",
              "      <td>0</td>\n",
              "      <td>0</td>\n",
              "      <td>0</td>\n",
              "      <td>0</td>\n",
              "      <td>0</td>\n",
              "      <td>0</td>\n",
              "      <td>1</td>\n",
              "      <td>0</td>\n",
              "      <td>0</td>\n",
              "      <td>0</td>\n",
              "      <td>0</td>\n",
              "      <td>0</td>\n",
              "      <td>0</td>\n",
              "      <td>0</td>\n",
              "      <td>0</td>\n",
              "      <td>0</td>\n",
              "      <td>0</td>\n",
              "      <td>0</td>\n",
              "      <td>0</td>\n",
              "      <td>0</td>\n",
              "      <td>1</td>\n",
              "      <td>0</td>\n",
              "    </tr>\n",
              "    <tr>\n",
              "      <th>7400</th>\n",
              "      <td>0.20</td>\n",
              "      <td>0.00</td>\n",
              "      <td>0.00</td>\n",
              "      <td>0.01</td>\n",
              "      <td>0</td>\n",
              "      <td>0</td>\n",
              "      <td>0</td>\n",
              "      <td>0</td>\n",
              "      <td>0</td>\n",
              "      <td>0</td>\n",
              "      <td>0</td>\n",
              "      <td>0</td>\n",
              "      <td>0</td>\n",
              "      <td>0</td>\n",
              "      <td>0</td>\n",
              "      <td>0</td>\n",
              "      <td>0</td>\n",
              "      <td>0</td>\n",
              "      <td>0</td>\n",
              "      <td>0</td>\n",
              "      <td>0</td>\n",
              "      <td>0</td>\n",
              "      <td>0</td>\n",
              "      <td>0</td>\n",
              "      <td>0</td>\n",
              "      <td>0</td>\n",
              "      <td>0</td>\n",
              "      <td>0</td>\n",
              "      <td>0</td>\n",
              "      <td>1</td>\n",
              "      <td>0</td>\n",
              "      <td>0</td>\n",
              "      <td>0</td>\n",
              "      <td>0</td>\n",
              "      <td>0</td>\n",
              "      <td>0</td>\n",
              "      <td>1</td>\n",
              "      <td>0</td>\n",
              "      <td>0</td>\n",
              "      <td>0</td>\n",
              "      <td>0</td>\n",
              "      <td>0</td>\n",
              "      <td>0</td>\n",
              "      <td>0</td>\n",
              "      <td>0</td>\n",
              "    </tr>\n",
              "  </tbody>\n",
              "</table>\n",
              "<p>13032 rows × 45 columns</p>\n",
              "</div>\n",
              "      <button class=\"colab-df-convert\" onclick=\"convertToInteractive('df-a9ad371f-7d93-4d56-bd94-f7be1b908846')\"\n",
              "              title=\"Convert this dataframe to an interactive table.\"\n",
              "              style=\"display:none;\">\n",
              "        \n",
              "  <svg xmlns=\"http://www.w3.org/2000/svg\" height=\"24px\"viewBox=\"0 0 24 24\"\n",
              "       width=\"24px\">\n",
              "    <path d=\"M0 0h24v24H0V0z\" fill=\"none\"/>\n",
              "    <path d=\"M18.56 5.44l.94 2.06.94-2.06 2.06-.94-2.06-.94-.94-2.06-.94 2.06-2.06.94zm-11 1L8.5 8.5l.94-2.06 2.06-.94-2.06-.94L8.5 2.5l-.94 2.06-2.06.94zm10 10l.94 2.06.94-2.06 2.06-.94-2.06-.94-.94-2.06-.94 2.06-2.06.94z\"/><path d=\"M17.41 7.96l-1.37-1.37c-.4-.4-.92-.59-1.43-.59-.52 0-1.04.2-1.43.59L10.3 9.45l-7.72 7.72c-.78.78-.78 2.05 0 2.83L4 21.41c.39.39.9.59 1.41.59.51 0 1.02-.2 1.41-.59l7.78-7.78 2.81-2.81c.8-.78.8-2.07 0-2.86zM5.41 20L4 18.59l7.72-7.72 1.47 1.35L5.41 20z\"/>\n",
              "  </svg>\n",
              "      </button>\n",
              "      \n",
              "  <style>\n",
              "    .colab-df-container {\n",
              "      display:flex;\n",
              "      flex-wrap:wrap;\n",
              "      gap: 12px;\n",
              "    }\n",
              "\n",
              "    .colab-df-convert {\n",
              "      background-color: #E8F0FE;\n",
              "      border: none;\n",
              "      border-radius: 50%;\n",
              "      cursor: pointer;\n",
              "      display: none;\n",
              "      fill: #1967D2;\n",
              "      height: 32px;\n",
              "      padding: 0 0 0 0;\n",
              "      width: 32px;\n",
              "    }\n",
              "\n",
              "    .colab-df-convert:hover {\n",
              "      background-color: #E2EBFA;\n",
              "      box-shadow: 0px 1px 2px rgba(60, 64, 67, 0.3), 0px 1px 3px 1px rgba(60, 64, 67, 0.15);\n",
              "      fill: #174EA6;\n",
              "    }\n",
              "\n",
              "    [theme=dark] .colab-df-convert {\n",
              "      background-color: #3B4455;\n",
              "      fill: #D2E3FC;\n",
              "    }\n",
              "\n",
              "    [theme=dark] .colab-df-convert:hover {\n",
              "      background-color: #434B5C;\n",
              "      box-shadow: 0px 1px 3px 1px rgba(0, 0, 0, 0.15);\n",
              "      filter: drop-shadow(0px 1px 2px rgba(0, 0, 0, 0.3));\n",
              "      fill: #FFFFFF;\n",
              "    }\n",
              "  </style>\n",
              "\n",
              "      <script>\n",
              "        const buttonEl =\n",
              "          document.querySelector('#df-a9ad371f-7d93-4d56-bd94-f7be1b908846 button.colab-df-convert');\n",
              "        buttonEl.style.display =\n",
              "          google.colab.kernel.accessAllowed ? 'block' : 'none';\n",
              "\n",
              "        async function convertToInteractive(key) {\n",
              "          const element = document.querySelector('#df-a9ad371f-7d93-4d56-bd94-f7be1b908846');\n",
              "          const dataTable =\n",
              "            await google.colab.kernel.invokeFunction('convertToInteractive',\n",
              "                                                     [key], {});\n",
              "          if (!dataTable) return;\n",
              "\n",
              "          const docLinkHtml = 'Like what you see? Visit the ' +\n",
              "            '<a target=\"_blank\" href=https://colab.research.google.com/notebooks/data_table.ipynb>data table notebook</a>'\n",
              "            + ' to learn more about interactive tables.';\n",
              "          element.innerHTML = '';\n",
              "          dataTable['output_type'] = 'display_data';\n",
              "          await google.colab.output.renderOutput(dataTable, element);\n",
              "          const docLink = document.createElement('div');\n",
              "          docLink.innerHTML = docLinkHtml;\n",
              "          element.appendChild(docLink);\n",
              "        }\n",
              "      </script>\n",
              "    </div>\n",
              "  </div>\n",
              "  "
            ],
            "text/plain": [
              "       NA_Sales  EU_Sales  ...  Genre_Sports  Genre_Strategy\n",
              "1688       0.45      0.47  ...             0               0\n",
              "661        1.46      0.54  ...             1               0\n",
              "3758       0.26      0.20  ...             0               0\n",
              "12416      0.00      0.05  ...             0               0\n",
              "7350       0.15      0.06  ...             0               0\n",
              "...         ...       ...  ...           ...             ...\n",
              "13655      0.00      0.00  ...             0               0\n",
              "5474       0.25      0.07  ...             0               0\n",
              "870        1.09      0.65  ...             0               0\n",
              "16087      0.00      0.00  ...             1               0\n",
              "7400       0.20      0.00  ...             0               0\n",
              "\n",
              "[13032 rows x 45 columns]"
            ]
          },
          "metadata": {},
          "execution_count": 167
        }
      ]
    },
    {
      "cell_type": "markdown",
      "source": [
        "####Note that I don't have to future scaling because they all the same unit"
      ],
      "metadata": {
        "id": "wXcr_w74_Xjo"
      }
    },
    {
      "cell_type": "markdown",
      "source": [
        "####Modeling"
      ],
      "metadata": {
        "id": "YmZ5c5wb_hDk"
      }
    },
    {
      "cell_type": "markdown",
      "source": [
        "#####LinearRegression"
      ],
      "metadata": {
        "id": "1_fLfOOWDCgp"
      }
    },
    {
      "cell_type": "code",
      "source": [
        "#Cread instance and fit the train set\n",
        "lr = LinearRegression()\n",
        "lr.fit(X_train,y_train)"
      ],
      "metadata": {
        "colab": {
          "base_uri": "https://localhost:8080/"
        },
        "id": "hBwe6Gvl_j6A",
        "outputId": "c970f036-b795-450f-a9ea-62016a6eb956"
      },
      "execution_count": null,
      "outputs": [
        {
          "output_type": "execute_result",
          "data": {
            "text/plain": [
              "LinearRegression()"
            ]
          },
          "metadata": {},
          "execution_count": 168
        }
      ]
    },
    {
      "cell_type": "code",
      "source": [
        "#Predict the X_test\n",
        "pred = lr.predict(X_test)\n",
        "pred"
      ],
      "metadata": {
        "colab": {
          "base_uri": "https://localhost:8080/"
        },
        "id": "mAuxZrdlDf3w",
        "outputId": "95900a66-d0c9-4ed5-e673-be63a9998e13"
      },
      "execution_count": null,
      "outputs": [
        {
          "output_type": "execute_result",
          "data": {
            "text/plain": [
              "array([0.5703381 , 0.06057486, 0.1901436 , ..., 0.09009976, 0.13062835,\n",
              "       0.18035129])"
            ]
          },
          "metadata": {},
          "execution_count": 169
        }
      ]
    },
    {
      "cell_type": "code",
      "source": [
        "#To comapre with predection\n",
        "y_test"
      ],
      "metadata": {
        "colab": {
          "base_uri": "https://localhost:8080/"
        },
        "id": "bWN2KGvKDnN1",
        "outputId": "c7989064-d6fd-42a9-cd1d-72577b7461f7"
      },
      "execution_count": null,
      "outputs": [
        {
          "output_type": "execute_result",
          "data": {
            "text/plain": [
              "3527     0.57\n",
              "12216    0.07\n",
              "7940     0.19\n",
              "3030     0.67\n",
              "7144     0.22\n",
              "         ... \n",
              "13781    0.04\n",
              "15964    0.02\n",
              "11193    0.09\n",
              "9400     0.13\n",
              "7979     0.19\n",
              "Name: Global_Sales, Length: 3259, dtype: float64"
            ]
          },
          "metadata": {},
          "execution_count": 170
        }
      ]
    },
    {
      "cell_type": "markdown",
      "source": [
        "Look so close"
      ],
      "metadata": {
        "id": "AkclIaO5D41b"
      }
    },
    {
      "cell_type": "code",
      "source": [
        "#Check the y-intercept\n",
        "print('y-intercept:', lr.intercept_)"
      ],
      "metadata": {
        "colab": {
          "base_uri": "https://localhost:8080/"
        },
        "id": "uOmlT9OgEBmn",
        "outputId": "6dea52e2-7db0-487e-b366-6e8d17edbccd"
      },
      "execution_count": null,
      "outputs": [
        {
          "output_type": "stream",
          "name": "stdout",
          "text": [
            "y-intercept: 0.00047916522496482816\n"
          ]
        }
      ]
    },
    {
      "cell_type": "code",
      "source": [
        "#Check the coefficients\n",
        "print('coefficients: \\n', lr.coef_)\n"
      ],
      "metadata": {
        "colab": {
          "base_uri": "https://localhost:8080/"
        },
        "id": "YAj9AMUDEFA7",
        "outputId": "874d20c8-374c-471b-dc0e-719e8f51bec6"
      },
      "execution_count": null,
      "outputs": [
        {
          "output_type": "stream",
          "name": "stdout",
          "text": [
            "coefficients: \n",
            " [ 9.99889407e-01  9.99814377e-01  1.00025063e+00  9.99680808e-01\n",
            " -5.97548981e-04 -3.14354126e-04  4.20940054e-05 -3.29445775e-05\n",
            " -6.40764473e-04  4.52919575e-04  3.49932275e-04  7.82643339e-05\n",
            " -6.87784970e-04  3.18300287e-04 -5.84663038e-04 -3.07818001e-04\n",
            "  4.44218612e-04 -4.04160342e-04 -4.46617045e-04 -3.62983980e-04\n",
            " -3.94153178e-04 -5.46213960e-04 -3.67369381e-04 -3.83184541e-04\n",
            " -4.51841858e-04  1.23537983e-03 -4.13029107e-04 -4.52734623e-04\n",
            " -4.69924232e-04  6.57308460e-05  9.81089093e-05 -1.01337141e-04\n",
            "  3.54700504e-04 -4.00284546e-04 -1.45501554e-04 -2.09227456e-04\n",
            " -6.08693114e-05  1.98594657e-04  5.11576859e-04 -1.71613921e-04\n",
            " -8.25236989e-05  5.25399966e-05 -3.59867585e-05 -1.38410443e-04\n",
            " -2.93941796e-05]\n"
          ]
        }
      ]
    },
    {
      "cell_type": "markdown",
      "source": [
        "####Evaluating"
      ],
      "metadata": {
        "id": "fAz3EQ51DzAC"
      }
    },
    {
      "cell_type": "code",
      "source": [
        "#The R2 train score\n",
        "lr.score(X_train,y_train)"
      ],
      "metadata": {
        "colab": {
          "base_uri": "https://localhost:8080/"
        },
        "id": "7aHW0eR-_6bl",
        "outputId": "131acaed-71aa-4eca-bbc6-e9e1ae25d215"
      },
      "execution_count": null,
      "outputs": [
        {
          "output_type": "execute_result",
          "data": {
            "text/plain": [
              "0.999986600954359"
            ]
          },
          "metadata": {},
          "execution_count": 173
        }
      ]
    },
    {
      "cell_type": "code",
      "source": [
        "#adjusted R2 score for training set\n",
        "adjusted_r_squared = 1 - (1-lr.score(X_train,y_train))*(len(y)-1)/(len(y)-X.shape[1]-1)\n",
        "adjusted_r_squared"
      ],
      "metadata": {
        "colab": {
          "base_uri": "https://localhost:8080/"
        },
        "id": "_wQtw0tqAf0u",
        "outputId": "7d15f237-27f1-451b-efbb-5f972361e48f"
      },
      "execution_count": null,
      "outputs": [
        {
          "output_type": "execute_result",
          "data": {
            "text/plain": [
              "0.9999865638378891"
            ]
          },
          "metadata": {},
          "execution_count": 174
        }
      ]
    },
    {
      "cell_type": "code",
      "source": [
        "#The R2 test score\n",
        "lr.score(X_test,y_test)"
      ],
      "metadata": {
        "colab": {
          "base_uri": "https://localhost:8080/"
        },
        "id": "1Ygfe2feALaJ",
        "outputId": "662228c4-445c-4013-ff8a-480d9960b0a4"
      },
      "execution_count": null,
      "outputs": [
        {
          "output_type": "execute_result",
          "data": {
            "text/plain": [
              "0.9999933052957081"
            ]
          },
          "metadata": {},
          "execution_count": 175
        }
      ]
    },
    {
      "cell_type": "code",
      "source": [
        "#adjusted R2 for testing set\n",
        "adjusted_r_squared_1 = 1 - (1-(r2_score(y_test, pred)))*(len(y)-1)/(len(y)-X.shape[1]-1)\n",
        "adjusted_r_squared_1"
      ],
      "metadata": {
        "colab": {
          "base_uri": "https://localhost:8080/"
        },
        "id": "-MpuPfDqApOW",
        "outputId": "c6d1e22b-1efb-4a19-d66e-07310524a509"
      },
      "execution_count": null,
      "outputs": [
        {
          "output_type": "execute_result",
          "data": {
            "text/plain": [
              "0.9999932867508209"
            ]
          },
          "metadata": {},
          "execution_count": 176
        }
      ]
    },
    {
      "cell_type": "markdown",
      "source": [
        "Fitting"
      ],
      "metadata": {
        "id": "uGaNEvy0D_M9"
      }
    }
  ]
}